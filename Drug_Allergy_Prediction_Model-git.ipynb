{
 "cells": [
  {
   "cell_type": "markdown",
   "metadata": {},
   "source": [
    "# Drug Allergy Prediction\n",
    "\n",
    "Given different kinds of clinical data, predict drug rechallenge results of patients.\n",
    "\n",
    "The dataset contains 16 feature columns and a target column:\n",
    "\n",
    "1. Patient ID\n",
    "2. Gender\n",
    "3. Age\n",
    "4. ELISpot Control\n",
    "5. ELISpot Result\n",
    "6. Naranjo Score\n",
    "7. Naranjo Category\n",
    "8. Exposure Time\n",
    "9. Steroid Usage\n",
    "10. Anonymous Underlying Condition A-E\n",
    "11. Suspicion Score\n",
    "12. Allergic reaction group\n",
    "13. Drug group\n",
    "14. Target column: Drug rechallenge result"
   ]
  },
  {
   "cell_type": "markdown",
   "metadata": {},
   "source": [
    "# Import Libraries and file"
   ]
  },
  {
   "cell_type": "code",
   "execution_count": 1,
   "metadata": {},
   "outputs": [],
   "source": [
    "import pandas as pd\n",
    "import numpy as np\n",
    "import matplotlib.pyplot as plt\n",
    "import seaborn as sns\n",
    "\n",
    "%matplotlib inline"
   ]
  },
  {
   "cell_type": "code",
   "execution_count": 2,
   "metadata": {},
   "outputs": [],
   "source": [
    "data = pd.read_csv('DrugAllergyKaggle_v3_050720.csv')"
   ]
  },
  {
   "cell_type": "markdown",
   "metadata": {},
   "source": [
    "# Data Exploration"
   ]
  },
  {
   "cell_type": "code",
   "execution_count": 3,
   "metadata": {},
   "outputs": [
    {
     "name": "stdout",
     "output_type": "stream",
     "text": [
      "<class 'pandas.core.frame.DataFrame'>\n",
      "RangeIndex: 799 entries, 0 to 798\n",
      "Data columns (total 18 columns):\n",
      " #   Column                   Non-Null Count  Dtype  \n",
      "---  ------                   --------------  -----  \n",
      " 0   Patient_ID               799 non-null    int64  \n",
      " 1   Gender                   799 non-null    int64  \n",
      " 2   Age_Year                 799 non-null    int64  \n",
      " 3   ELISpot_Control          799 non-null    int64  \n",
      " 4   ELISpot_Result           798 non-null    float64\n",
      " 5   Naranjo_Score            431 non-null    float64\n",
      " 6   Naranjo_Category         509 non-null    float64\n",
      " 7   Exposure_Time            622 non-null    float64\n",
      " 8   Steroid_Usage            799 non-null    int64  \n",
      " 9   Underlying_Condition_A   781 non-null    float64\n",
      " 10  Underlying_Condition_B   799 non-null    int64  \n",
      " 11  Underlying_Condition_C   799 non-null    int64  \n",
      " 12  Underlying_Condition_D   785 non-null    float64\n",
      " 13  Underlying_Condition_E   798 non-null    float64\n",
      " 14  Suspicion_Score          799 non-null    int64  \n",
      " 15  Allergic_Reaction_Group  771 non-null    float64\n",
      " 16  Drug_Group               799 non-null    int64  \n",
      " 17  Drug_Rechallenge_Result  114 non-null    float64\n",
      "dtypes: float64(9), int64(9)\n",
      "memory usage: 112.5 KB\n"
     ]
    }
   ],
   "source": [
    "data.info()"
   ]
  },
  {
   "cell_type": "code",
   "execution_count": 4,
   "metadata": {},
   "outputs": [
    {
     "data": {
      "text/html": [
       "<div>\n",
       "<style scoped>\n",
       "    .dataframe tbody tr th:only-of-type {\n",
       "        vertical-align: middle;\n",
       "    }\n",
       "\n",
       "    .dataframe tbody tr th {\n",
       "        vertical-align: top;\n",
       "    }\n",
       "\n",
       "    .dataframe thead th {\n",
       "        text-align: right;\n",
       "    }\n",
       "</style>\n",
       "<table border=\"1\" class=\"dataframe\">\n",
       "  <thead>\n",
       "    <tr style=\"text-align: right;\">\n",
       "      <th></th>\n",
       "      <th>count</th>\n",
       "      <th>mean</th>\n",
       "      <th>std</th>\n",
       "      <th>min</th>\n",
       "      <th>25%</th>\n",
       "      <th>50%</th>\n",
       "      <th>75%</th>\n",
       "      <th>max</th>\n",
       "    </tr>\n",
       "  </thead>\n",
       "  <tbody>\n",
       "    <tr>\n",
       "      <th>Patient_ID</th>\n",
       "      <td>799.0</td>\n",
       "      <td>375.077597</td>\n",
       "      <td>144.888087</td>\n",
       "      <td>2.0</td>\n",
       "      <td>318.0</td>\n",
       "      <td>403.0</td>\n",
       "      <td>486.0</td>\n",
       "      <td>570.0</td>\n",
       "    </tr>\n",
       "    <tr>\n",
       "      <th>Gender</th>\n",
       "      <td>799.0</td>\n",
       "      <td>0.565707</td>\n",
       "      <td>0.495974</td>\n",
       "      <td>0.0</td>\n",
       "      <td>0.0</td>\n",
       "      <td>1.0</td>\n",
       "      <td>1.0</td>\n",
       "      <td>1.0</td>\n",
       "    </tr>\n",
       "    <tr>\n",
       "      <th>Age_Year</th>\n",
       "      <td>799.0</td>\n",
       "      <td>51.012516</td>\n",
       "      <td>22.344643</td>\n",
       "      <td>0.0</td>\n",
       "      <td>36.0</td>\n",
       "      <td>53.0</td>\n",
       "      <td>70.0</td>\n",
       "      <td>97.0</td>\n",
       "    </tr>\n",
       "    <tr>\n",
       "      <th>ELISpot_Control</th>\n",
       "      <td>799.0</td>\n",
       "      <td>1698.603254</td>\n",
       "      <td>879.909460</td>\n",
       "      <td>60.0</td>\n",
       "      <td>1120.0</td>\n",
       "      <td>1592.0</td>\n",
       "      <td>2166.0</td>\n",
       "      <td>5290.0</td>\n",
       "    </tr>\n",
       "    <tr>\n",
       "      <th>ELISpot_Result</th>\n",
       "      <td>798.0</td>\n",
       "      <td>11.973684</td>\n",
       "      <td>51.111000</td>\n",
       "      <td>0.0</td>\n",
       "      <td>0.0</td>\n",
       "      <td>0.0</td>\n",
       "      <td>0.0</td>\n",
       "      <td>554.0</td>\n",
       "    </tr>\n",
       "    <tr>\n",
       "      <th>Naranjo_Score</th>\n",
       "      <td>431.0</td>\n",
       "      <td>3.236659</td>\n",
       "      <td>1.796548</td>\n",
       "      <td>-3.0</td>\n",
       "      <td>2.0</td>\n",
       "      <td>3.0</td>\n",
       "      <td>4.0</td>\n",
       "      <td>9.0</td>\n",
       "    </tr>\n",
       "    <tr>\n",
       "      <th>Naranjo_Category</th>\n",
       "      <td>509.0</td>\n",
       "      <td>1.198428</td>\n",
       "      <td>0.519234</td>\n",
       "      <td>0.0</td>\n",
       "      <td>1.0</td>\n",
       "      <td>1.0</td>\n",
       "      <td>1.0</td>\n",
       "      <td>3.0</td>\n",
       "    </tr>\n",
       "    <tr>\n",
       "      <th>Exposure_Time</th>\n",
       "      <td>622.0</td>\n",
       "      <td>428.533762</td>\n",
       "      <td>3922.748736</td>\n",
       "      <td>-9.0</td>\n",
       "      <td>3.0</td>\n",
       "      <td>10.5</td>\n",
       "      <td>21.0</td>\n",
       "      <td>43281.0</td>\n",
       "    </tr>\n",
       "    <tr>\n",
       "      <th>Steroid_Usage</th>\n",
       "      <td>799.0</td>\n",
       "      <td>0.354193</td>\n",
       "      <td>0.478568</td>\n",
       "      <td>0.0</td>\n",
       "      <td>0.0</td>\n",
       "      <td>0.0</td>\n",
       "      <td>1.0</td>\n",
       "      <td>1.0</td>\n",
       "    </tr>\n",
       "    <tr>\n",
       "      <th>Underlying_Condition_A</th>\n",
       "      <td>781.0</td>\n",
       "      <td>0.070423</td>\n",
       "      <td>0.256022</td>\n",
       "      <td>0.0</td>\n",
       "      <td>0.0</td>\n",
       "      <td>0.0</td>\n",
       "      <td>0.0</td>\n",
       "      <td>1.0</td>\n",
       "    </tr>\n",
       "    <tr>\n",
       "      <th>Underlying_Condition_B</th>\n",
       "      <td>799.0</td>\n",
       "      <td>0.100125</td>\n",
       "      <td>0.300355</td>\n",
       "      <td>0.0</td>\n",
       "      <td>0.0</td>\n",
       "      <td>0.0</td>\n",
       "      <td>0.0</td>\n",
       "      <td>1.0</td>\n",
       "    </tr>\n",
       "    <tr>\n",
       "      <th>Underlying_Condition_C</th>\n",
       "      <td>799.0</td>\n",
       "      <td>0.122653</td>\n",
       "      <td>0.328244</td>\n",
       "      <td>0.0</td>\n",
       "      <td>0.0</td>\n",
       "      <td>0.0</td>\n",
       "      <td>0.0</td>\n",
       "      <td>1.0</td>\n",
       "    </tr>\n",
       "    <tr>\n",
       "      <th>Underlying_Condition_D</th>\n",
       "      <td>785.0</td>\n",
       "      <td>0.187261</td>\n",
       "      <td>0.390370</td>\n",
       "      <td>0.0</td>\n",
       "      <td>0.0</td>\n",
       "      <td>0.0</td>\n",
       "      <td>0.0</td>\n",
       "      <td>1.0</td>\n",
       "    </tr>\n",
       "    <tr>\n",
       "      <th>Underlying_Condition_E</th>\n",
       "      <td>798.0</td>\n",
       "      <td>0.325815</td>\n",
       "      <td>0.468972</td>\n",
       "      <td>0.0</td>\n",
       "      <td>0.0</td>\n",
       "      <td>0.0</td>\n",
       "      <td>1.0</td>\n",
       "      <td>1.0</td>\n",
       "    </tr>\n",
       "    <tr>\n",
       "      <th>Suspicion_Score</th>\n",
       "      <td>799.0</td>\n",
       "      <td>2.081352</td>\n",
       "      <td>0.380792</td>\n",
       "      <td>1.0</td>\n",
       "      <td>2.0</td>\n",
       "      <td>2.0</td>\n",
       "      <td>2.0</td>\n",
       "      <td>3.0</td>\n",
       "    </tr>\n",
       "    <tr>\n",
       "      <th>Allergic_Reaction_Group</th>\n",
       "      <td>771.0</td>\n",
       "      <td>4.014267</td>\n",
       "      <td>2.313945</td>\n",
       "      <td>1.0</td>\n",
       "      <td>2.0</td>\n",
       "      <td>4.0</td>\n",
       "      <td>6.0</td>\n",
       "      <td>8.0</td>\n",
       "    </tr>\n",
       "    <tr>\n",
       "      <th>Drug_Group</th>\n",
       "      <td>799.0</td>\n",
       "      <td>3.826033</td>\n",
       "      <td>2.513826</td>\n",
       "      <td>1.0</td>\n",
       "      <td>1.0</td>\n",
       "      <td>3.0</td>\n",
       "      <td>7.0</td>\n",
       "      <td>8.0</td>\n",
       "    </tr>\n",
       "    <tr>\n",
       "      <th>Drug_Rechallenge_Result</th>\n",
       "      <td>114.0</td>\n",
       "      <td>0.245614</td>\n",
       "      <td>0.432351</td>\n",
       "      <td>0.0</td>\n",
       "      <td>0.0</td>\n",
       "      <td>0.0</td>\n",
       "      <td>0.0</td>\n",
       "      <td>1.0</td>\n",
       "    </tr>\n",
       "  </tbody>\n",
       "</table>\n",
       "</div>"
      ],
      "text/plain": [
       "                         count         mean          std   min     25%  \\\n",
       "Patient_ID               799.0   375.077597   144.888087   2.0   318.0   \n",
       "Gender                   799.0     0.565707     0.495974   0.0     0.0   \n",
       "Age_Year                 799.0    51.012516    22.344643   0.0    36.0   \n",
       "ELISpot_Control          799.0  1698.603254   879.909460  60.0  1120.0   \n",
       "ELISpot_Result           798.0    11.973684    51.111000   0.0     0.0   \n",
       "Naranjo_Score            431.0     3.236659     1.796548  -3.0     2.0   \n",
       "Naranjo_Category         509.0     1.198428     0.519234   0.0     1.0   \n",
       "Exposure_Time            622.0   428.533762  3922.748736  -9.0     3.0   \n",
       "Steroid_Usage            799.0     0.354193     0.478568   0.0     0.0   \n",
       "Underlying_Condition_A   781.0     0.070423     0.256022   0.0     0.0   \n",
       "Underlying_Condition_B   799.0     0.100125     0.300355   0.0     0.0   \n",
       "Underlying_Condition_C   799.0     0.122653     0.328244   0.0     0.0   \n",
       "Underlying_Condition_D   785.0     0.187261     0.390370   0.0     0.0   \n",
       "Underlying_Condition_E   798.0     0.325815     0.468972   0.0     0.0   \n",
       "Suspicion_Score          799.0     2.081352     0.380792   1.0     2.0   \n",
       "Allergic_Reaction_Group  771.0     4.014267     2.313945   1.0     2.0   \n",
       "Drug_Group               799.0     3.826033     2.513826   1.0     1.0   \n",
       "Drug_Rechallenge_Result  114.0     0.245614     0.432351   0.0     0.0   \n",
       "\n",
       "                            50%     75%      max  \n",
       "Patient_ID                403.0   486.0    570.0  \n",
       "Gender                      1.0     1.0      1.0  \n",
       "Age_Year                   53.0    70.0     97.0  \n",
       "ELISpot_Control          1592.0  2166.0   5290.0  \n",
       "ELISpot_Result              0.0     0.0    554.0  \n",
       "Naranjo_Score               3.0     4.0      9.0  \n",
       "Naranjo_Category            1.0     1.0      3.0  \n",
       "Exposure_Time              10.5    21.0  43281.0  \n",
       "Steroid_Usage               0.0     1.0      1.0  \n",
       "Underlying_Condition_A      0.0     0.0      1.0  \n",
       "Underlying_Condition_B      0.0     0.0      1.0  \n",
       "Underlying_Condition_C      0.0     0.0      1.0  \n",
       "Underlying_Condition_D      0.0     0.0      1.0  \n",
       "Underlying_Condition_E      0.0     1.0      1.0  \n",
       "Suspicion_Score             2.0     2.0      3.0  \n",
       "Allergic_Reaction_Group     4.0     6.0      8.0  \n",
       "Drug_Group                  3.0     7.0      8.0  \n",
       "Drug_Rechallenge_Result     0.0     0.0      1.0  "
      ]
     },
     "execution_count": 4,
     "metadata": {},
     "output_type": "execute_result"
    }
   ],
   "source": [
    "data.describe().transpose()"
   ]
  },
  {
   "cell_type": "code",
   "execution_count": 5,
   "metadata": {
    "scrolled": true
   },
   "outputs": [
    {
     "data": {
      "text/html": [
       "<div>\n",
       "<style scoped>\n",
       "    .dataframe tbody tr th:only-of-type {\n",
       "        vertical-align: middle;\n",
       "    }\n",
       "\n",
       "    .dataframe tbody tr th {\n",
       "        vertical-align: top;\n",
       "    }\n",
       "\n",
       "    .dataframe thead th {\n",
       "        text-align: right;\n",
       "    }\n",
       "</style>\n",
       "<table border=\"1\" class=\"dataframe\">\n",
       "  <thead>\n",
       "    <tr style=\"text-align: right;\">\n",
       "      <th></th>\n",
       "      <th>Patient_ID</th>\n",
       "      <th>Gender</th>\n",
       "      <th>Age_Year</th>\n",
       "      <th>ELISpot_Control</th>\n",
       "      <th>ELISpot_Result</th>\n",
       "      <th>Naranjo_Score</th>\n",
       "      <th>Naranjo_Category</th>\n",
       "      <th>Exposure_Time</th>\n",
       "      <th>Steroid_Usage</th>\n",
       "      <th>Underlying_Condition_A</th>\n",
       "      <th>Underlying_Condition_B</th>\n",
       "      <th>Underlying_Condition_C</th>\n",
       "      <th>Underlying_Condition_D</th>\n",
       "      <th>Underlying_Condition_E</th>\n",
       "      <th>Suspicion_Score</th>\n",
       "      <th>Allergic_Reaction_Group</th>\n",
       "      <th>Drug_Group</th>\n",
       "      <th>Drug_Rechallenge_Result</th>\n",
       "    </tr>\n",
       "  </thead>\n",
       "  <tbody>\n",
       "    <tr>\n",
       "      <th>Patient_ID</th>\n",
       "      <td>1.000000</td>\n",
       "      <td>0.035643</td>\n",
       "      <td>-0.131319</td>\n",
       "      <td>-0.467507</td>\n",
       "      <td>-0.060285</td>\n",
       "      <td>0.121137</td>\n",
       "      <td>-0.047406</td>\n",
       "      <td>-0.098100</td>\n",
       "      <td>0.033742</td>\n",
       "      <td>-0.079929</td>\n",
       "      <td>-0.010747</td>\n",
       "      <td>-0.070237</td>\n",
       "      <td>-0.016512</td>\n",
       "      <td>-0.102436</td>\n",
       "      <td>-0.022442</td>\n",
       "      <td>0.075733</td>\n",
       "      <td>0.188645</td>\n",
       "      <td>-0.107253</td>\n",
       "    </tr>\n",
       "    <tr>\n",
       "      <th>Gender</th>\n",
       "      <td>0.035643</td>\n",
       "      <td>1.000000</td>\n",
       "      <td>-0.033997</td>\n",
       "      <td>0.030470</td>\n",
       "      <td>-0.008815</td>\n",
       "      <td>0.075185</td>\n",
       "      <td>0.092706</td>\n",
       "      <td>-0.078202</td>\n",
       "      <td>0.047014</td>\n",
       "      <td>-0.040943</td>\n",
       "      <td>0.081963</td>\n",
       "      <td>-0.218907</td>\n",
       "      <td>-0.002183</td>\n",
       "      <td>-0.085985</td>\n",
       "      <td>-0.011751</td>\n",
       "      <td>0.135318</td>\n",
       "      <td>-0.088816</td>\n",
       "      <td>0.053926</td>\n",
       "    </tr>\n",
       "    <tr>\n",
       "      <th>Age_Year</th>\n",
       "      <td>-0.131319</td>\n",
       "      <td>-0.033997</td>\n",
       "      <td>1.000000</td>\n",
       "      <td>0.080074</td>\n",
       "      <td>-0.057247</td>\n",
       "      <td>0.004964</td>\n",
       "      <td>-0.039081</td>\n",
       "      <td>0.003507</td>\n",
       "      <td>0.008960</td>\n",
       "      <td>0.087780</td>\n",
       "      <td>0.033236</td>\n",
       "      <td>-0.166622</td>\n",
       "      <td>0.183292</td>\n",
       "      <td>0.042246</td>\n",
       "      <td>0.008570</td>\n",
       "      <td>0.123643</td>\n",
       "      <td>0.027591</td>\n",
       "      <td>-0.192368</td>\n",
       "    </tr>\n",
       "    <tr>\n",
       "      <th>ELISpot_Control</th>\n",
       "      <td>-0.467507</td>\n",
       "      <td>0.030470</td>\n",
       "      <td>0.080074</td>\n",
       "      <td>1.000000</td>\n",
       "      <td>0.115394</td>\n",
       "      <td>0.001344</td>\n",
       "      <td>0.027918</td>\n",
       "      <td>0.059975</td>\n",
       "      <td>-0.200589</td>\n",
       "      <td>0.188652</td>\n",
       "      <td>-0.014160</td>\n",
       "      <td>0.003388</td>\n",
       "      <td>-0.052436</td>\n",
       "      <td>0.015897</td>\n",
       "      <td>0.037844</td>\n",
       "      <td>-0.014115</td>\n",
       "      <td>-0.150553</td>\n",
       "      <td>0.065338</td>\n",
       "    </tr>\n",
       "    <tr>\n",
       "      <th>ELISpot_Result</th>\n",
       "      <td>-0.060285</td>\n",
       "      <td>-0.008815</td>\n",
       "      <td>-0.057247</td>\n",
       "      <td>0.115394</td>\n",
       "      <td>1.000000</td>\n",
       "      <td>-0.013339</td>\n",
       "      <td>0.025969</td>\n",
       "      <td>-0.020625</td>\n",
       "      <td>0.033202</td>\n",
       "      <td>-0.045819</td>\n",
       "      <td>0.071484</td>\n",
       "      <td>0.110968</td>\n",
       "      <td>-0.047252</td>\n",
       "      <td>-0.084204</td>\n",
       "      <td>-0.012840</td>\n",
       "      <td>-0.074845</td>\n",
       "      <td>0.053147</td>\n",
       "      <td>0.257566</td>\n",
       "    </tr>\n",
       "    <tr>\n",
       "      <th>Naranjo_Score</th>\n",
       "      <td>0.121137</td>\n",
       "      <td>0.075185</td>\n",
       "      <td>0.004964</td>\n",
       "      <td>0.001344</td>\n",
       "      <td>-0.013339</td>\n",
       "      <td>1.000000</td>\n",
       "      <td>0.866709</td>\n",
       "      <td>0.099665</td>\n",
       "      <td>0.033830</td>\n",
       "      <td>-0.012218</td>\n",
       "      <td>0.028130</td>\n",
       "      <td>-0.070400</td>\n",
       "      <td>-0.069327</td>\n",
       "      <td>-0.042662</td>\n",
       "      <td>-0.018981</td>\n",
       "      <td>-0.051182</td>\n",
       "      <td>0.068766</td>\n",
       "      <td>0.397708</td>\n",
       "    </tr>\n",
       "    <tr>\n",
       "      <th>Naranjo_Category</th>\n",
       "      <td>-0.047406</td>\n",
       "      <td>0.092706</td>\n",
       "      <td>-0.039081</td>\n",
       "      <td>0.027918</td>\n",
       "      <td>0.025969</td>\n",
       "      <td>0.866709</td>\n",
       "      <td>1.000000</td>\n",
       "      <td>0.029761</td>\n",
       "      <td>0.100705</td>\n",
       "      <td>-0.056929</td>\n",
       "      <td>0.049854</td>\n",
       "      <td>-0.029904</td>\n",
       "      <td>-0.010803</td>\n",
       "      <td>-0.013349</td>\n",
       "      <td>0.000000</td>\n",
       "      <td>-0.074830</td>\n",
       "      <td>0.095907</td>\n",
       "      <td>0.352240</td>\n",
       "    </tr>\n",
       "    <tr>\n",
       "      <th>Exposure_Time</th>\n",
       "      <td>-0.098100</td>\n",
       "      <td>-0.078202</td>\n",
       "      <td>0.003507</td>\n",
       "      <td>0.059975</td>\n",
       "      <td>-0.020625</td>\n",
       "      <td>0.099665</td>\n",
       "      <td>0.029761</td>\n",
       "      <td>1.000000</td>\n",
       "      <td>0.023216</td>\n",
       "      <td>-0.025987</td>\n",
       "      <td>0.013263</td>\n",
       "      <td>0.005724</td>\n",
       "      <td>0.123329</td>\n",
       "      <td>0.107565</td>\n",
       "      <td>0.089034</td>\n",
       "      <td>0.066859</td>\n",
       "      <td>0.044766</td>\n",
       "      <td>-0.094525</td>\n",
       "    </tr>\n",
       "    <tr>\n",
       "      <th>Steroid_Usage</th>\n",
       "      <td>0.033742</td>\n",
       "      <td>0.047014</td>\n",
       "      <td>0.008960</td>\n",
       "      <td>-0.200589</td>\n",
       "      <td>0.033202</td>\n",
       "      <td>0.033830</td>\n",
       "      <td>0.100705</td>\n",
       "      <td>0.023216</td>\n",
       "      <td>1.000000</td>\n",
       "      <td>-0.002365</td>\n",
       "      <td>0.197591</td>\n",
       "      <td>-0.117353</td>\n",
       "      <td>0.110212</td>\n",
       "      <td>-0.060854</td>\n",
       "      <td>-0.062043</td>\n",
       "      <td>-0.077100</td>\n",
       "      <td>0.150239</td>\n",
       "      <td>-0.073921</td>\n",
       "    </tr>\n",
       "    <tr>\n",
       "      <th>Underlying_Condition_A</th>\n",
       "      <td>-0.079929</td>\n",
       "      <td>-0.040943</td>\n",
       "      <td>0.087780</td>\n",
       "      <td>0.188652</td>\n",
       "      <td>-0.045819</td>\n",
       "      <td>-0.012218</td>\n",
       "      <td>-0.056929</td>\n",
       "      <td>-0.025987</td>\n",
       "      <td>-0.002365</td>\n",
       "      <td>1.000000</td>\n",
       "      <td>-0.010460</td>\n",
       "      <td>-0.086432</td>\n",
       "      <td>-0.067038</td>\n",
       "      <td>-0.085200</td>\n",
       "      <td>0.030254</td>\n",
       "      <td>0.042956</td>\n",
       "      <td>-0.090890</td>\n",
       "      <td>0.082576</td>\n",
       "    </tr>\n",
       "    <tr>\n",
       "      <th>Underlying_Condition_B</th>\n",
       "      <td>-0.010747</td>\n",
       "      <td>0.081963</td>\n",
       "      <td>0.033236</td>\n",
       "      <td>-0.014160</td>\n",
       "      <td>0.071484</td>\n",
       "      <td>0.028130</td>\n",
       "      <td>0.049854</td>\n",
       "      <td>0.013263</td>\n",
       "      <td>0.197591</td>\n",
       "      <td>-0.010460</td>\n",
       "      <td>1.000000</td>\n",
       "      <td>-0.035746</td>\n",
       "      <td>0.021793</td>\n",
       "      <td>-0.024524</td>\n",
       "      <td>-0.016524</td>\n",
       "      <td>-0.079765</td>\n",
       "      <td>0.008161</td>\n",
       "      <td>0.069898</td>\n",
       "    </tr>\n",
       "    <tr>\n",
       "      <th>Underlying_Condition_C</th>\n",
       "      <td>-0.070237</td>\n",
       "      <td>-0.218907</td>\n",
       "      <td>-0.166622</td>\n",
       "      <td>0.003388</td>\n",
       "      <td>0.110968</td>\n",
       "      <td>-0.070400</td>\n",
       "      <td>-0.029904</td>\n",
       "      <td>0.005724</td>\n",
       "      <td>-0.117353</td>\n",
       "      <td>-0.086432</td>\n",
       "      <td>-0.035746</td>\n",
       "      <td>1.000000</td>\n",
       "      <td>-0.156925</td>\n",
       "      <td>-0.029489</td>\n",
       "      <td>-0.029801</td>\n",
       "      <td>-0.201910</td>\n",
       "      <td>0.036522</td>\n",
       "      <td>0.019038</td>\n",
       "    </tr>\n",
       "    <tr>\n",
       "      <th>Underlying_Condition_D</th>\n",
       "      <td>-0.016512</td>\n",
       "      <td>-0.002183</td>\n",
       "      <td>0.183292</td>\n",
       "      <td>-0.052436</td>\n",
       "      <td>-0.047252</td>\n",
       "      <td>-0.069327</td>\n",
       "      <td>-0.010803</td>\n",
       "      <td>0.123329</td>\n",
       "      <td>0.110212</td>\n",
       "      <td>-0.067038</td>\n",
       "      <td>0.021793</td>\n",
       "      <td>-0.156925</td>\n",
       "      <td>1.000000</td>\n",
       "      <td>0.122578</td>\n",
       "      <td>0.021090</td>\n",
       "      <td>0.169872</td>\n",
       "      <td>-0.036054</td>\n",
       "      <td>-0.108515</td>\n",
       "    </tr>\n",
       "    <tr>\n",
       "      <th>Underlying_Condition_E</th>\n",
       "      <td>-0.102436</td>\n",
       "      <td>-0.085985</td>\n",
       "      <td>0.042246</td>\n",
       "      <td>0.015897</td>\n",
       "      <td>-0.084204</td>\n",
       "      <td>-0.042662</td>\n",
       "      <td>-0.013349</td>\n",
       "      <td>0.107565</td>\n",
       "      <td>-0.060854</td>\n",
       "      <td>-0.085200</td>\n",
       "      <td>-0.024524</td>\n",
       "      <td>-0.029489</td>\n",
       "      <td>0.122578</td>\n",
       "      <td>1.000000</td>\n",
       "      <td>-0.043380</td>\n",
       "      <td>0.050848</td>\n",
       "      <td>0.035418</td>\n",
       "      <td>-0.004730</td>\n",
       "    </tr>\n",
       "    <tr>\n",
       "      <th>Suspicion_Score</th>\n",
       "      <td>-0.022442</td>\n",
       "      <td>-0.011751</td>\n",
       "      <td>0.008570</td>\n",
       "      <td>0.037844</td>\n",
       "      <td>-0.012840</td>\n",
       "      <td>-0.018981</td>\n",
       "      <td>0.000000</td>\n",
       "      <td>0.089034</td>\n",
       "      <td>-0.062043</td>\n",
       "      <td>0.030254</td>\n",
       "      <td>-0.016524</td>\n",
       "      <td>-0.029801</td>\n",
       "      <td>0.021090</td>\n",
       "      <td>-0.043380</td>\n",
       "      <td>1.000000</td>\n",
       "      <td>0.046240</td>\n",
       "      <td>-0.122653</td>\n",
       "      <td>-0.062073</td>\n",
       "    </tr>\n",
       "    <tr>\n",
       "      <th>Allergic_Reaction_Group</th>\n",
       "      <td>0.075733</td>\n",
       "      <td>0.135318</td>\n",
       "      <td>0.123643</td>\n",
       "      <td>-0.014115</td>\n",
       "      <td>-0.074845</td>\n",
       "      <td>-0.051182</td>\n",
       "      <td>-0.074830</td>\n",
       "      <td>0.066859</td>\n",
       "      <td>-0.077100</td>\n",
       "      <td>0.042956</td>\n",
       "      <td>-0.079765</td>\n",
       "      <td>-0.201910</td>\n",
       "      <td>0.169872</td>\n",
       "      <td>0.050848</td>\n",
       "      <td>0.046240</td>\n",
       "      <td>1.000000</td>\n",
       "      <td>-0.128270</td>\n",
       "      <td>-0.155619</td>\n",
       "    </tr>\n",
       "    <tr>\n",
       "      <th>Drug_Group</th>\n",
       "      <td>0.188645</td>\n",
       "      <td>-0.088816</td>\n",
       "      <td>0.027591</td>\n",
       "      <td>-0.150553</td>\n",
       "      <td>0.053147</td>\n",
       "      <td>0.068766</td>\n",
       "      <td>0.095907</td>\n",
       "      <td>0.044766</td>\n",
       "      <td>0.150239</td>\n",
       "      <td>-0.090890</td>\n",
       "      <td>0.008161</td>\n",
       "      <td>0.036522</td>\n",
       "      <td>-0.036054</td>\n",
       "      <td>0.035418</td>\n",
       "      <td>-0.122653</td>\n",
       "      <td>-0.128270</td>\n",
       "      <td>1.000000</td>\n",
       "      <td>0.027581</td>\n",
       "    </tr>\n",
       "    <tr>\n",
       "      <th>Drug_Rechallenge_Result</th>\n",
       "      <td>-0.107253</td>\n",
       "      <td>0.053926</td>\n",
       "      <td>-0.192368</td>\n",
       "      <td>0.065338</td>\n",
       "      <td>0.257566</td>\n",
       "      <td>0.397708</td>\n",
       "      <td>0.352240</td>\n",
       "      <td>-0.094525</td>\n",
       "      <td>-0.073921</td>\n",
       "      <td>0.082576</td>\n",
       "      <td>0.069898</td>\n",
       "      <td>0.019038</td>\n",
       "      <td>-0.108515</td>\n",
       "      <td>-0.004730</td>\n",
       "      <td>-0.062073</td>\n",
       "      <td>-0.155619</td>\n",
       "      <td>0.027581</td>\n",
       "      <td>1.000000</td>\n",
       "    </tr>\n",
       "  </tbody>\n",
       "</table>\n",
       "</div>"
      ],
      "text/plain": [
       "                         Patient_ID    Gender  Age_Year  ELISpot_Control  \\\n",
       "Patient_ID                 1.000000  0.035643 -0.131319        -0.467507   \n",
       "Gender                     0.035643  1.000000 -0.033997         0.030470   \n",
       "Age_Year                  -0.131319 -0.033997  1.000000         0.080074   \n",
       "ELISpot_Control           -0.467507  0.030470  0.080074         1.000000   \n",
       "ELISpot_Result            -0.060285 -0.008815 -0.057247         0.115394   \n",
       "Naranjo_Score              0.121137  0.075185  0.004964         0.001344   \n",
       "Naranjo_Category          -0.047406  0.092706 -0.039081         0.027918   \n",
       "Exposure_Time             -0.098100 -0.078202  0.003507         0.059975   \n",
       "Steroid_Usage              0.033742  0.047014  0.008960        -0.200589   \n",
       "Underlying_Condition_A    -0.079929 -0.040943  0.087780         0.188652   \n",
       "Underlying_Condition_B    -0.010747  0.081963  0.033236        -0.014160   \n",
       "Underlying_Condition_C    -0.070237 -0.218907 -0.166622         0.003388   \n",
       "Underlying_Condition_D    -0.016512 -0.002183  0.183292        -0.052436   \n",
       "Underlying_Condition_E    -0.102436 -0.085985  0.042246         0.015897   \n",
       "Suspicion_Score           -0.022442 -0.011751  0.008570         0.037844   \n",
       "Allergic_Reaction_Group    0.075733  0.135318  0.123643        -0.014115   \n",
       "Drug_Group                 0.188645 -0.088816  0.027591        -0.150553   \n",
       "Drug_Rechallenge_Result   -0.107253  0.053926 -0.192368         0.065338   \n",
       "\n",
       "                         ELISpot_Result  Naranjo_Score  Naranjo_Category  \\\n",
       "Patient_ID                    -0.060285       0.121137         -0.047406   \n",
       "Gender                        -0.008815       0.075185          0.092706   \n",
       "Age_Year                      -0.057247       0.004964         -0.039081   \n",
       "ELISpot_Control                0.115394       0.001344          0.027918   \n",
       "ELISpot_Result                 1.000000      -0.013339          0.025969   \n",
       "Naranjo_Score                 -0.013339       1.000000          0.866709   \n",
       "Naranjo_Category               0.025969       0.866709          1.000000   \n",
       "Exposure_Time                 -0.020625       0.099665          0.029761   \n",
       "Steroid_Usage                  0.033202       0.033830          0.100705   \n",
       "Underlying_Condition_A        -0.045819      -0.012218         -0.056929   \n",
       "Underlying_Condition_B         0.071484       0.028130          0.049854   \n",
       "Underlying_Condition_C         0.110968      -0.070400         -0.029904   \n",
       "Underlying_Condition_D        -0.047252      -0.069327         -0.010803   \n",
       "Underlying_Condition_E        -0.084204      -0.042662         -0.013349   \n",
       "Suspicion_Score               -0.012840      -0.018981          0.000000   \n",
       "Allergic_Reaction_Group       -0.074845      -0.051182         -0.074830   \n",
       "Drug_Group                     0.053147       0.068766          0.095907   \n",
       "Drug_Rechallenge_Result        0.257566       0.397708          0.352240   \n",
       "\n",
       "                         Exposure_Time  Steroid_Usage  Underlying_Condition_A  \\\n",
       "Patient_ID                   -0.098100       0.033742               -0.079929   \n",
       "Gender                       -0.078202       0.047014               -0.040943   \n",
       "Age_Year                      0.003507       0.008960                0.087780   \n",
       "ELISpot_Control               0.059975      -0.200589                0.188652   \n",
       "ELISpot_Result               -0.020625       0.033202               -0.045819   \n",
       "Naranjo_Score                 0.099665       0.033830               -0.012218   \n",
       "Naranjo_Category              0.029761       0.100705               -0.056929   \n",
       "Exposure_Time                 1.000000       0.023216               -0.025987   \n",
       "Steroid_Usage                 0.023216       1.000000               -0.002365   \n",
       "Underlying_Condition_A       -0.025987      -0.002365                1.000000   \n",
       "Underlying_Condition_B        0.013263       0.197591               -0.010460   \n",
       "Underlying_Condition_C        0.005724      -0.117353               -0.086432   \n",
       "Underlying_Condition_D        0.123329       0.110212               -0.067038   \n",
       "Underlying_Condition_E        0.107565      -0.060854               -0.085200   \n",
       "Suspicion_Score               0.089034      -0.062043                0.030254   \n",
       "Allergic_Reaction_Group       0.066859      -0.077100                0.042956   \n",
       "Drug_Group                    0.044766       0.150239               -0.090890   \n",
       "Drug_Rechallenge_Result      -0.094525      -0.073921                0.082576   \n",
       "\n",
       "                         Underlying_Condition_B  Underlying_Condition_C  \\\n",
       "Patient_ID                            -0.010747               -0.070237   \n",
       "Gender                                 0.081963               -0.218907   \n",
       "Age_Year                               0.033236               -0.166622   \n",
       "ELISpot_Control                       -0.014160                0.003388   \n",
       "ELISpot_Result                         0.071484                0.110968   \n",
       "Naranjo_Score                          0.028130               -0.070400   \n",
       "Naranjo_Category                       0.049854               -0.029904   \n",
       "Exposure_Time                          0.013263                0.005724   \n",
       "Steroid_Usage                          0.197591               -0.117353   \n",
       "Underlying_Condition_A                -0.010460               -0.086432   \n",
       "Underlying_Condition_B                 1.000000               -0.035746   \n",
       "Underlying_Condition_C                -0.035746                1.000000   \n",
       "Underlying_Condition_D                 0.021793               -0.156925   \n",
       "Underlying_Condition_E                -0.024524               -0.029489   \n",
       "Suspicion_Score                       -0.016524               -0.029801   \n",
       "Allergic_Reaction_Group               -0.079765               -0.201910   \n",
       "Drug_Group                             0.008161                0.036522   \n",
       "Drug_Rechallenge_Result                0.069898                0.019038   \n",
       "\n",
       "                         Underlying_Condition_D  Underlying_Condition_E  \\\n",
       "Patient_ID                            -0.016512               -0.102436   \n",
       "Gender                                -0.002183               -0.085985   \n",
       "Age_Year                               0.183292                0.042246   \n",
       "ELISpot_Control                       -0.052436                0.015897   \n",
       "ELISpot_Result                        -0.047252               -0.084204   \n",
       "Naranjo_Score                         -0.069327               -0.042662   \n",
       "Naranjo_Category                      -0.010803               -0.013349   \n",
       "Exposure_Time                          0.123329                0.107565   \n",
       "Steroid_Usage                          0.110212               -0.060854   \n",
       "Underlying_Condition_A                -0.067038               -0.085200   \n",
       "Underlying_Condition_B                 0.021793               -0.024524   \n",
       "Underlying_Condition_C                -0.156925               -0.029489   \n",
       "Underlying_Condition_D                 1.000000                0.122578   \n",
       "Underlying_Condition_E                 0.122578                1.000000   \n",
       "Suspicion_Score                        0.021090               -0.043380   \n",
       "Allergic_Reaction_Group                0.169872                0.050848   \n",
       "Drug_Group                            -0.036054                0.035418   \n",
       "Drug_Rechallenge_Result               -0.108515               -0.004730   \n",
       "\n",
       "                         Suspicion_Score  Allergic_Reaction_Group  Drug_Group  \\\n",
       "Patient_ID                     -0.022442                 0.075733    0.188645   \n",
       "Gender                         -0.011751                 0.135318   -0.088816   \n",
       "Age_Year                        0.008570                 0.123643    0.027591   \n",
       "ELISpot_Control                 0.037844                -0.014115   -0.150553   \n",
       "ELISpot_Result                 -0.012840                -0.074845    0.053147   \n",
       "Naranjo_Score                  -0.018981                -0.051182    0.068766   \n",
       "Naranjo_Category                0.000000                -0.074830    0.095907   \n",
       "Exposure_Time                   0.089034                 0.066859    0.044766   \n",
       "Steroid_Usage                  -0.062043                -0.077100    0.150239   \n",
       "Underlying_Condition_A          0.030254                 0.042956   -0.090890   \n",
       "Underlying_Condition_B         -0.016524                -0.079765    0.008161   \n",
       "Underlying_Condition_C         -0.029801                -0.201910    0.036522   \n",
       "Underlying_Condition_D          0.021090                 0.169872   -0.036054   \n",
       "Underlying_Condition_E         -0.043380                 0.050848    0.035418   \n",
       "Suspicion_Score                 1.000000                 0.046240   -0.122653   \n",
       "Allergic_Reaction_Group         0.046240                 1.000000   -0.128270   \n",
       "Drug_Group                     -0.122653                -0.128270    1.000000   \n",
       "Drug_Rechallenge_Result        -0.062073                -0.155619    0.027581   \n",
       "\n",
       "                         Drug_Rechallenge_Result  \n",
       "Patient_ID                             -0.107253  \n",
       "Gender                                  0.053926  \n",
       "Age_Year                               -0.192368  \n",
       "ELISpot_Control                         0.065338  \n",
       "ELISpot_Result                          0.257566  \n",
       "Naranjo_Score                           0.397708  \n",
       "Naranjo_Category                        0.352240  \n",
       "Exposure_Time                          -0.094525  \n",
       "Steroid_Usage                          -0.073921  \n",
       "Underlying_Condition_A                  0.082576  \n",
       "Underlying_Condition_B                  0.069898  \n",
       "Underlying_Condition_C                  0.019038  \n",
       "Underlying_Condition_D                 -0.108515  \n",
       "Underlying_Condition_E                 -0.004730  \n",
       "Suspicion_Score                        -0.062073  \n",
       "Allergic_Reaction_Group                -0.155619  \n",
       "Drug_Group                              0.027581  \n",
       "Drug_Rechallenge_Result                 1.000000  "
      ]
     },
     "execution_count": 5,
     "metadata": {},
     "output_type": "execute_result"
    }
   ],
   "source": [
    "data.corr()"
   ]
  },
  {
   "cell_type": "code",
   "execution_count": 6,
   "metadata": {
    "scrolled": false
   },
   "outputs": [
    {
     "data": {
      "text/plain": [
       "<matplotlib.axes._subplots.AxesSubplot at 0x1871920f108>"
      ]
     },
     "execution_count": 6,
     "metadata": {},
     "output_type": "execute_result"
    },
    {
     "data": {
      "image/png": "[encoded data removed]",
      "text/plain": [
       "<Figure size 1080x720 with 2 Axes>"
      ]
     },
     "metadata": {
      "needs_background": "light"
     },
     "output_type": "display_data"
    }
   ],
   "source": [
    "plt.figure(figsize=(15,10))\n",
    "sns.heatmap(data.corr(),annot=True,cmap='viridis')"
   ]
  },
  {
   "cell_type": "markdown",
   "metadata": {},
   "source": [
    "# Target Column : Drug Rechallenge Result\n",
    "\n",
    "There are only 114 rows with ground truth values.\n",
    "\n",
    "The major class is 0."
   ]
  },
  {
   "cell_type": "code",
   "execution_count": 7,
   "metadata": {
    "scrolled": true
   },
   "outputs": [
    {
     "data": {
      "text/plain": [
       "<matplotlib.axes._subplots.AxesSubplot at 0x18719933d88>"
      ]
     },
     "execution_count": 7,
     "metadata": {},
     "output_type": "execute_result"
    },
    {
     "data": {
      "image/png": "[encoded data removed]",
      "text/plain": [
       "<Figure size 432x288 with 1 Axes>"
      ]
     },
     "metadata": {
      "needs_background": "light"
     },
     "output_type": "display_data"
    }
   ],
   "source": [
    "sns.countplot(data['Drug_Rechallenge_Result'])"
   ]
  },
  {
   "cell_type": "markdown",
   "metadata": {},
   "source": [
    "# Data Preprocessing: Feature Engineering"
   ]
  },
  {
   "cell_type": "markdown",
   "metadata": {},
   "source": [
    "# 1. Naranjo Category and Naranjo Score\n",
    "\n",
    "There are 509 rows contains Naranjo category (63% of total)\n",
    "\n",
    "And there are 431 rows contains Naranjo score.\n",
    "\n",
    "Try to impute two columns with each other.\n",
    "\n",
    "**1.1)Naranjo score is present and Naranjo category is absent**"
   ]
  },
  {
   "cell_type": "code",
   "execution_count": 8,
   "metadata": {},
   "outputs": [
    {
     "data": {
      "text/html": [
       "<div>\n",
       "<style scoped>\n",
       "    .dataframe tbody tr th:only-of-type {\n",
       "        vertical-align: middle;\n",
       "    }\n",
       "\n",
       "    .dataframe tbody tr th {\n",
       "        vertical-align: top;\n",
       "    }\n",
       "\n",
       "    .dataframe thead th {\n",
       "        text-align: right;\n",
       "    }\n",
       "</style>\n",
       "<table border=\"1\" class=\"dataframe\">\n",
       "  <thead>\n",
       "    <tr style=\"text-align: right;\">\n",
       "      <th></th>\n",
       "      <th>Naranjo_Category</th>\n",
       "      <th>Naranjo_Score</th>\n",
       "    </tr>\n",
       "  </thead>\n",
       "  <tbody>\n",
       "    <tr>\n",
       "      <th>105</th>\n",
       "      <td>NaN</td>\n",
       "      <td>-3.0</td>\n",
       "    </tr>\n",
       "  </tbody>\n",
       "</table>\n",
       "</div>"
      ],
      "text/plain": [
       "     Naranjo_Category  Naranjo_Score\n",
       "105               NaN           -3.0"
      ]
     },
     "execution_count": 8,
     "metadata": {},
     "output_type": "execute_result"
    }
   ],
   "source": [
    "data[(data['Naranjo_Category'].isnull()) & (data['Naranjo_Score'].notnull())][['Naranjo_Category','Naranjo_Score']]"
   ]
  },
  {
   "cell_type": "markdown",
   "metadata": {},
   "source": [
    "**1.2)Naranjo score is absent and Naranjo category is present**"
   ]
  },
  {
   "cell_type": "code",
   "execution_count": 9,
   "metadata": {},
   "outputs": [
    {
     "data": {
      "text/html": [
       "<div>\n",
       "<style scoped>\n",
       "    .dataframe tbody tr th:only-of-type {\n",
       "        vertical-align: middle;\n",
       "    }\n",
       "\n",
       "    .dataframe tbody tr th {\n",
       "        vertical-align: top;\n",
       "    }\n",
       "\n",
       "    .dataframe thead th {\n",
       "        text-align: right;\n",
       "    }\n",
       "</style>\n",
       "<table border=\"1\" class=\"dataframe\">\n",
       "  <thead>\n",
       "    <tr style=\"text-align: right;\">\n",
       "      <th></th>\n",
       "      <th>Naranjo_Category</th>\n",
       "      <th>Naranjo_Score</th>\n",
       "    </tr>\n",
       "  </thead>\n",
       "  <tbody>\n",
       "    <tr>\n",
       "      <th>17</th>\n",
       "      <td>2.0</td>\n",
       "      <td>NaN</td>\n",
       "    </tr>\n",
       "    <tr>\n",
       "      <th>22</th>\n",
       "      <td>2.0</td>\n",
       "      <td>NaN</td>\n",
       "    </tr>\n",
       "    <tr>\n",
       "      <th>25</th>\n",
       "      <td>2.0</td>\n",
       "      <td>NaN</td>\n",
       "    </tr>\n",
       "    <tr>\n",
       "      <th>31</th>\n",
       "      <td>2.0</td>\n",
       "      <td>NaN</td>\n",
       "    </tr>\n",
       "    <tr>\n",
       "      <th>32</th>\n",
       "      <td>1.0</td>\n",
       "      <td>NaN</td>\n",
       "    </tr>\n",
       "    <tr>\n",
       "      <th>...</th>\n",
       "      <td>...</td>\n",
       "      <td>...</td>\n",
       "    </tr>\n",
       "    <tr>\n",
       "      <th>769</th>\n",
       "      <td>1.0</td>\n",
       "      <td>NaN</td>\n",
       "    </tr>\n",
       "    <tr>\n",
       "      <th>770</th>\n",
       "      <td>1.0</td>\n",
       "      <td>NaN</td>\n",
       "    </tr>\n",
       "    <tr>\n",
       "      <th>778</th>\n",
       "      <td>3.0</td>\n",
       "      <td>NaN</td>\n",
       "    </tr>\n",
       "    <tr>\n",
       "      <th>780</th>\n",
       "      <td>3.0</td>\n",
       "      <td>NaN</td>\n",
       "    </tr>\n",
       "    <tr>\n",
       "      <th>781</th>\n",
       "      <td>3.0</td>\n",
       "      <td>NaN</td>\n",
       "    </tr>\n",
       "  </tbody>\n",
       "</table>\n",
       "<p>79 rows × 2 columns</p>\n",
       "</div>"
      ],
      "text/plain": [
       "     Naranjo_Category  Naranjo_Score\n",
       "17                2.0            NaN\n",
       "22                2.0            NaN\n",
       "25                2.0            NaN\n",
       "31                2.0            NaN\n",
       "32                1.0            NaN\n",
       "..                ...            ...\n",
       "769               1.0            NaN\n",
       "770               1.0            NaN\n",
       "778               3.0            NaN\n",
       "780               3.0            NaN\n",
       "781               3.0            NaN\n",
       "\n",
       "[79 rows x 2 columns]"
      ]
     },
     "execution_count": 9,
     "metadata": {},
     "output_type": "execute_result"
    }
   ],
   "source": [
    "data[(data['Naranjo_Category'].notnull()) & (data['Naranjo_Score'].isnull())][['Naranjo_Category','Naranjo_Score']]"
   ]
  },
  {
   "cell_type": "markdown",
   "metadata": {},
   "source": [
    "**1. Impute Naranjo_Category of row105 with 0** \n",
    "\n",
    "Naranjo category is 0 to 3.\n",
    "\n",
    "Naranjo score of -3 is equivalent to Naranjo category 0.\n",
    "\n",
    "**2. Drop Naranjo_score column**\n",
    "\n",
    "The Narnjo score and the Naranjo category are the same and collinearity.\n",
    "\n",
    "I decide to drop Naranjo score column because the number of rows with missing value is higher than Naranjo category.\n",
    "\n",
    "**3. Fill null value in Naranjo_Category with 1**\n",
    "\n",
    "The mean value of Naranjo category is 1.19, and the mean Naranjo score is 3.26 (equivalent to Naranjo category1)."
   ]
  },
  {
   "cell_type": "code",
   "execution_count": 10,
   "metadata": {},
   "outputs": [],
   "source": [
    "data.loc[105, 'Naranjo_Category'] = 0"
   ]
  },
  {
   "cell_type": "code",
   "execution_count": 11,
   "metadata": {},
   "outputs": [],
   "source": [
    "data = data.drop('Naranjo_Score',axis=1)"
   ]
  },
  {
   "cell_type": "code",
   "execution_count": 12,
   "metadata": {},
   "outputs": [],
   "source": [
    "data['Naranjo_Category'].fillna(value=1,inplace=True)"
   ]
  },
  {
   "cell_type": "markdown",
   "metadata": {},
   "source": [
    "# 2. Exposure time\n",
    "\n",
    "There are 622 rows contains exposure time(78% of total)."
   ]
  },
  {
   "cell_type": "code",
   "execution_count": 13,
   "metadata": {},
   "outputs": [
    {
     "data": {
      "text/plain": [
       " 1.0      64\n",
       " 2.0      39\n",
       " 0.0      38\n",
       " 3.0      29\n",
       " 10.0     25\n",
       "          ..\n",
       " 90.0      1\n",
       " 29.0      1\n",
       " 41.0      1\n",
       " 225.0     1\n",
       "-3.0       1\n",
       "Name: Exposure_Time, Length: 77, dtype: int64"
      ]
     },
     "execution_count": 13,
     "metadata": {},
     "output_type": "execute_result"
    }
   ],
   "source": [
    "data['Exposure_Time'].value_counts(sort=True,ascending=False)"
   ]
  },
  {
   "cell_type": "code",
   "execution_count": 14,
   "metadata": {},
   "outputs": [
    {
     "data": {
      "text/plain": [
       "10.5"
      ]
     },
     "execution_count": 14,
     "metadata": {},
     "output_type": "execute_result"
    }
   ],
   "source": [
    "data['Exposure_Time'].median()"
   ]
  },
  {
   "cell_type": "code",
   "execution_count": 15,
   "metadata": {},
   "outputs": [
    {
     "data": {
      "text/plain": [
       "<matplotlib.axes._subplots.AxesSubplot at 0x1871999a6c8>"
      ]
     },
     "execution_count": 15,
     "metadata": {},
     "output_type": "execute_result"
    },
    {
     "data": {
      "image/png": "[encoded data removed]",
      "text/plain": [
       "<Figure size 432x288 with 1 Axes>"
      ]
     },
     "metadata": {
      "needs_background": "light"
     },
     "output_type": "display_data"
    }
   ],
   "source": [
    "sns.distplot(data['Exposure_Time'],kde=False,bins=40)"
   ]
  },
  {
   "cell_type": "code",
   "execution_count": 16,
   "metadata": {},
   "outputs": [
    {
     "data": {
      "text/plain": [
       "(0, 200)"
      ]
     },
     "execution_count": 16,
     "metadata": {},
     "output_type": "execute_result"
    },
    {
     "data": {
      "image/png": "[encoded data removed]",
      "text/plain": [
       "<Figure size 432x288 with 1 Axes>"
      ]
     },
     "metadata": {
      "needs_background": "light"
     },
     "output_type": "display_data"
    }
   ],
   "source": [
    "sns.distplot(data['Exposure_Time'],kde=False,bins=1000)\n",
    "\n",
    "plt.xlim(0,200)"
   ]
  },
  {
   "cell_type": "markdown",
   "metadata": {},
   "source": [
    "**1. Replace the values below 0 with 0**\n",
    "\n",
    "Time cannot be below 0. So, replace the values below 0 with 0.\n",
    "\n",
    "**2. Replace the values >120 with 120**\n",
    "\n",
    "Exposure time range from -9 to 43281.0, but most of the values are between 0-120.\n",
    "\n",
    "**3. Replace the rest of the null values with the median value**"
   ]
  },
  {
   "cell_type": "code",
   "execution_count": 17,
   "metadata": {},
   "outputs": [
    {
     "data": {
      "text/plain": [
       "186   -3.0\n",
       "789   -9.0\n",
       "Name: Exposure_Time, dtype: float64"
      ]
     },
     "execution_count": 17,
     "metadata": {},
     "output_type": "execute_result"
    }
   ],
   "source": [
    "data[data['Exposure_Time']< 0]['Exposure_Time'] "
   ]
  },
  {
   "cell_type": "code",
   "execution_count": 18,
   "metadata": {},
   "outputs": [],
   "source": [
    "data.loc[186, 'Exposure_Time'] = 0\n",
    "data.loc[789, 'Exposure_Time'] = 0"
   ]
  },
  {
   "cell_type": "code",
   "execution_count": 19,
   "metadata": {
    "scrolled": true
   },
   "outputs": [
    {
     "data": {
      "text/plain": [
       "115      731.0\n",
       "123    42038.0\n",
       "148    42038.0\n",
       "156    42038.0\n",
       "272      236.0\n",
       "471     3653.0\n",
       "472     3653.0\n",
       "548    42443.0\n",
       "566      135.0\n",
       "577    43281.0\n",
       "594      225.0\n",
       "699      300.0\n",
       "738    18250.0\n",
       "760    18250.0\n",
       "761      180.0\n",
       "Name: Exposure_Time, dtype: float64"
      ]
     },
     "execution_count": 19,
     "metadata": {},
     "output_type": "execute_result"
    }
   ],
   "source": [
    "data[data['Exposure_Time'] > 120]['Exposure_Time']"
   ]
  },
  {
   "cell_type": "code",
   "execution_count": 20,
   "metadata": {},
   "outputs": [],
   "source": [
    "data.loc[(data['Exposure_Time'] > 120),['Exposure_Time']] =120"
   ]
  },
  {
   "cell_type": "code",
   "execution_count": 21,
   "metadata": {},
   "outputs": [],
   "source": [
    "data['Exposure_Time'].fillna(value=10.5,inplace=True)"
   ]
  },
  {
   "cell_type": "markdown",
   "metadata": {},
   "source": [
    "# 3. Underlying condition\n",
    "\n",
    "There are few missing values in underlying condition columns(1-18 points per column).\n",
    "\n",
    "The values are 0 and 1 indicate present and absent of conditions.\n",
    "\n",
    "Assume missing values are absent of that condition."
   ]
  },
  {
   "cell_type": "code",
   "execution_count": 22,
   "metadata": {},
   "outputs": [],
   "source": [
    "data['Underlying_Condition_A'].fillna(value=0,inplace=True)\n",
    "data['Underlying_Condition_D'].fillna(value=0,inplace=True)\n",
    "data['Underlying_Condition_E'].fillna(value=0,inplace=True)"
   ]
  },
  {
   "cell_type": "markdown",
   "metadata": {},
   "source": [
    "# 4. Allergic reaction group\n",
    "\n",
    "There are 28 missing values(3.5% of total)."
   ]
  },
  {
   "cell_type": "code",
   "execution_count": 23,
   "metadata": {
    "scrolled": true
   },
   "outputs": [
    {
     "data": {
      "text/plain": [
       "<matplotlib.axes._subplots.AxesSubplot at 0x1871a4dd4c8>"
      ]
     },
     "execution_count": 23,
     "metadata": {},
     "output_type": "execute_result"
    },
    {
     "data": {
      "image/png": "[encoded data removed]",
      "text/plain": [
       "<Figure size 432x288 with 1 Axes>"
      ]
     },
     "metadata": {
      "needs_background": "light"
     },
     "output_type": "display_data"
    }
   ],
   "source": [
    "sns.countplot(x='Allergic_Reaction_Group',data=data)"
   ]
  },
  {
   "cell_type": "markdown",
   "metadata": {},
   "source": [
    "**Drop rows with missing values**"
   ]
  },
  {
   "cell_type": "code",
   "execution_count": 24,
   "metadata": {},
   "outputs": [],
   "source": [
    "data = data[data['Allergic_Reaction_Group'].notnull()]"
   ]
  },
  {
   "cell_type": "markdown",
   "metadata": {},
   "source": [
    "# 5. ELISpot\n",
    "\n",
    "There is a row with missing ELISpot_Result.\n",
    "\n",
    "**Drop the row with missing value**"
   ]
  },
  {
   "cell_type": "code",
   "execution_count": 25,
   "metadata": {
    "scrolled": true
   },
   "outputs": [],
   "source": [
    "data = data[data['ELISpot_Result'].notnull()]"
   ]
  },
  {
   "cell_type": "markdown",
   "metadata": {},
   "source": [
    "# ELISpot ratio\n",
    "\n",
    "Given ELISpot control and result, convert to ELISpot ratio.\n",
    "\n",
    "**ELISpot ratio = result/control**"
   ]
  },
  {
   "cell_type": "code",
   "execution_count": 26,
   "metadata": {},
   "outputs": [],
   "source": [
    "data['elis_ratio'] = data['ELISpot_Result']/data['ELISpot_Control']"
   ]
  },
  {
   "cell_type": "markdown",
   "metadata": {},
   "source": [
    "**Drop ELISpot_control and ELISpot_result columns**"
   ]
  },
  {
   "cell_type": "code",
   "execution_count": 27,
   "metadata": {},
   "outputs": [],
   "source": [
    "data = data.drop('ELISpot_Control',axis=1)\n",
    "data = data.drop('ELISpot_Result',axis=1)"
   ]
  },
  {
   "cell_type": "markdown",
   "metadata": {},
   "source": [
    "# 6. Explore the Rest Features"
   ]
  },
  {
   "cell_type": "markdown",
   "metadata": {},
   "source": [
    "**Gender**"
   ]
  },
  {
   "cell_type": "code",
   "execution_count": 28,
   "metadata": {
    "scrolled": true
   },
   "outputs": [
    {
     "data": {
      "text/plain": [
       "<matplotlib.axes._subplots.AxesSubplot at 0x1871a5eee88>"
      ]
     },
     "execution_count": 28,
     "metadata": {},
     "output_type": "execute_result"
    },
    {
     "data": {
      "image/png": "[encoded data removed]",
      "text/plain": [
       "<Figure size 432x288 with 1 Axes>"
      ]
     },
     "metadata": {
      "needs_background": "light"
     },
     "output_type": "display_data"
    }
   ],
   "source": [
    "sns.countplot(data['Gender'])"
   ]
  },
  {
   "cell_type": "markdown",
   "metadata": {},
   "source": [
    "**Age**"
   ]
  },
  {
   "cell_type": "code",
   "execution_count": 29,
   "metadata": {},
   "outputs": [
    {
     "data": {
      "text/plain": [
       "<matplotlib.axes._subplots.AxesSubplot at 0x1871a6427c8>"
      ]
     },
     "execution_count": 29,
     "metadata": {},
     "output_type": "execute_result"
    },
    {
     "data": {
      "image/png": "[encoded data removed]",
      "text/plain": [
       "<Figure size 432x288 with 1 Axes>"
      ]
     },
     "metadata": {
      "needs_background": "light"
     },
     "output_type": "display_data"
    }
   ],
   "source": [
    "sns.distplot(data['Age_Year'],kde=False,bins=30)"
   ]
  },
  {
   "cell_type": "markdown",
   "metadata": {},
   "source": [
    "**Steroid Usage**"
   ]
  },
  {
   "cell_type": "code",
   "execution_count": 30,
   "metadata": {
    "scrolled": true
   },
   "outputs": [
    {
     "data": {
      "text/plain": [
       "<matplotlib.axes._subplots.AxesSubplot at 0x1871a6f6508>"
      ]
     },
     "execution_count": 30,
     "metadata": {},
     "output_type": "execute_result"
    },
    {
     "data": {
      "image/png": "[encoded data removed]",
      "text/plain": [
       "<Figure size 432x288 with 1 Axes>"
      ]
     },
     "metadata": {
      "needs_background": "light"
     },
     "output_type": "display_data"
    }
   ],
   "source": [
    "sns.countplot(data['Steroid_Usage'])"
   ]
  },
  {
   "cell_type": "markdown",
   "metadata": {},
   "source": [
    "**Suspicion Score**"
   ]
  },
  {
   "cell_type": "code",
   "execution_count": 31,
   "metadata": {
    "scrolled": true
   },
   "outputs": [
    {
     "data": {
      "text/plain": [
       "<matplotlib.axes._subplots.AxesSubplot at 0x1871a4c49c8>"
      ]
     },
     "execution_count": 31,
     "metadata": {},
     "output_type": "execute_result"
    },
    {
     "data": {
      "image/png": "[encoded data removed]",
      "text/plain": [
       "<Figure size 432x288 with 1 Axes>"
      ]
     },
     "metadata": {
      "needs_background": "light"
     },
     "output_type": "display_data"
    }
   ],
   "source": [
    "sns.countplot(data['Suspicion_Score'])"
   ]
  },
  {
   "cell_type": "markdown",
   "metadata": {},
   "source": [
    "**Drug Group**"
   ]
  },
  {
   "cell_type": "code",
   "execution_count": 32,
   "metadata": {},
   "outputs": [
    {
     "data": {
      "text/plain": [
       "<matplotlib.axes._subplots.AxesSubplot at 0x1871a4f1348>"
      ]
     },
     "execution_count": 32,
     "metadata": {},
     "output_type": "execute_result"
    },
    {
     "data": {
      "image/png": "[encoded data removed]",
      "text/plain": [
       "<Figure size 432x288 with 1 Axes>"
      ]
     },
     "metadata": {
      "needs_background": "light"
     },
     "output_type": "display_data"
    }
   ],
   "source": [
    "sns.countplot(data['Drug_Group'])"
   ]
  },
  {
   "cell_type": "markdown",
   "metadata": {},
   "source": [
    "# 7. Transform Categorical Variables to Dummies Variables"
   ]
  },
  {
   "cell_type": "code",
   "execution_count": 33,
   "metadata": {},
   "outputs": [],
   "source": [
    "def create_dummies(df,column_name):\n",
    "    dummies = pd.get_dummies(df[column_name],prefix=column_name)\n",
    "    df = pd.concat([df,dummies],axis=1)\n",
    "    return df"
   ]
  },
  {
   "cell_type": "code",
   "execution_count": 34,
   "metadata": {},
   "outputs": [],
   "source": [
    "categorical_features = ['Gender','Naranjo_Category','Steroid_Usage','Underlying_Condition_A','Underlying_Condition_B',\n",
    "                       'Underlying_Condition_C','Underlying_Condition_D','Underlying_Condition_E', 'Suspicion_Score', \n",
    "                       'Allergic_Reaction_Group', 'Drug_Group']\n",
    "\n",
    "for col in categorical_features:\n",
    "    data = create_dummies(data,col)\n",
    "    data = data.drop(col,axis=1)"
   ]
  },
  {
   "cell_type": "code",
   "execution_count": 35,
   "metadata": {},
   "outputs": [],
   "source": [
    "data = data.drop(['Gender_0','Steroid_Usage_0', 'Underlying_Condition_A_0.0','Underlying_Condition_B_0',\n",
    "                  'Underlying_Condition_C_0','Underlying_Condition_D_0.0','Underlying_Condition_E_0.0'],axis=1)"
   ]
  },
  {
   "cell_type": "code",
   "execution_count": 36,
   "metadata": {},
   "outputs": [
    {
     "data": {
      "text/html": [
       "<div>\n",
       "<style scoped>\n",
       "    .dataframe tbody tr th:only-of-type {\n",
       "        vertical-align: middle;\n",
       "    }\n",
       "\n",
       "    .dataframe tbody tr th {\n",
       "        vertical-align: top;\n",
       "    }\n",
       "\n",
       "    .dataframe thead th {\n",
       "        text-align: right;\n",
       "    }\n",
       "</style>\n",
       "<table border=\"1\" class=\"dataframe\">\n",
       "  <thead>\n",
       "    <tr style=\"text-align: right;\">\n",
       "      <th></th>\n",
       "      <th>count</th>\n",
       "      <th>mean</th>\n",
       "      <th>std</th>\n",
       "      <th>min</th>\n",
       "      <th>25%</th>\n",
       "      <th>50%</th>\n",
       "      <th>75%</th>\n",
       "      <th>max</th>\n",
       "    </tr>\n",
       "  </thead>\n",
       "  <tbody>\n",
       "    <tr>\n",
       "      <th>Patient_ID</th>\n",
       "      <td>770.0</td>\n",
       "      <td>371.910390</td>\n",
       "      <td>145.084984</td>\n",
       "      <td>2.0</td>\n",
       "      <td>313.0</td>\n",
       "      <td>401.0</td>\n",
       "      <td>482.0</td>\n",
       "      <td>570.000000</td>\n",
       "    </tr>\n",
       "    <tr>\n",
       "      <th>Age_Year</th>\n",
       "      <td>770.0</td>\n",
       "      <td>51.264935</td>\n",
       "      <td>22.331757</td>\n",
       "      <td>0.0</td>\n",
       "      <td>36.0</td>\n",
       "      <td>54.0</td>\n",
       "      <td>70.0</td>\n",
       "      <td>97.000000</td>\n",
       "    </tr>\n",
       "    <tr>\n",
       "      <th>Exposure_Time</th>\n",
       "      <td>770.0</td>\n",
       "      <td>16.051948</td>\n",
       "      <td>20.890993</td>\n",
       "      <td>0.0</td>\n",
       "      <td>5.0</td>\n",
       "      <td>10.5</td>\n",
       "      <td>17.0</td>\n",
       "      <td>120.000000</td>\n",
       "    </tr>\n",
       "    <tr>\n",
       "      <th>Drug_Rechallenge_Result</th>\n",
       "      <td>114.0</td>\n",
       "      <td>0.245614</td>\n",
       "      <td>0.432351</td>\n",
       "      <td>0.0</td>\n",
       "      <td>0.0</td>\n",
       "      <td>0.0</td>\n",
       "      <td>0.0</td>\n",
       "      <td>1.000000</td>\n",
       "    </tr>\n",
       "    <tr>\n",
       "      <th>elis_ratio</th>\n",
       "      <td>770.0</td>\n",
       "      <td>0.006733</td>\n",
       "      <td>0.029677</td>\n",
       "      <td>0.0</td>\n",
       "      <td>0.0</td>\n",
       "      <td>0.0</td>\n",
       "      <td>0.0</td>\n",
       "      <td>0.543317</td>\n",
       "    </tr>\n",
       "    <tr>\n",
       "      <th>Gender_1</th>\n",
       "      <td>770.0</td>\n",
       "      <td>0.554545</td>\n",
       "      <td>0.497339</td>\n",
       "      <td>0.0</td>\n",
       "      <td>0.0</td>\n",
       "      <td>1.0</td>\n",
       "      <td>1.0</td>\n",
       "      <td>1.000000</td>\n",
       "    </tr>\n",
       "    <tr>\n",
       "      <th>Naranjo_Category_0.0</th>\n",
       "      <td>770.0</td>\n",
       "      <td>0.028571</td>\n",
       "      <td>0.166707</td>\n",
       "      <td>0.0</td>\n",
       "      <td>0.0</td>\n",
       "      <td>0.0</td>\n",
       "      <td>0.0</td>\n",
       "      <td>1.000000</td>\n",
       "    </tr>\n",
       "    <tr>\n",
       "      <th>Naranjo_Category_1.0</th>\n",
       "      <td>770.0</td>\n",
       "      <td>0.824675</td>\n",
       "      <td>0.380492</td>\n",
       "      <td>0.0</td>\n",
       "      <td>1.0</td>\n",
       "      <td>1.0</td>\n",
       "      <td>1.0</td>\n",
       "      <td>1.000000</td>\n",
       "    </tr>\n",
       "    <tr>\n",
       "      <th>Naranjo_Category_2.0</th>\n",
       "      <td>770.0</td>\n",
       "      <td>0.137662</td>\n",
       "      <td>0.344769</td>\n",
       "      <td>0.0</td>\n",
       "      <td>0.0</td>\n",
       "      <td>0.0</td>\n",
       "      <td>0.0</td>\n",
       "      <td>1.000000</td>\n",
       "    </tr>\n",
       "    <tr>\n",
       "      <th>Naranjo_Category_3.0</th>\n",
       "      <td>770.0</td>\n",
       "      <td>0.009091</td>\n",
       "      <td>0.094974</td>\n",
       "      <td>0.0</td>\n",
       "      <td>0.0</td>\n",
       "      <td>0.0</td>\n",
       "      <td>0.0</td>\n",
       "      <td>1.000000</td>\n",
       "    </tr>\n",
       "    <tr>\n",
       "      <th>Steroid_Usage_1</th>\n",
       "      <td>770.0</td>\n",
       "      <td>0.359740</td>\n",
       "      <td>0.480236</td>\n",
       "      <td>0.0</td>\n",
       "      <td>0.0</td>\n",
       "      <td>0.0</td>\n",
       "      <td>1.0</td>\n",
       "      <td>1.000000</td>\n",
       "    </tr>\n",
       "    <tr>\n",
       "      <th>Underlying_Condition_A_1.0</th>\n",
       "      <td>770.0</td>\n",
       "      <td>0.066234</td>\n",
       "      <td>0.248852</td>\n",
       "      <td>0.0</td>\n",
       "      <td>0.0</td>\n",
       "      <td>0.0</td>\n",
       "      <td>0.0</td>\n",
       "      <td>1.000000</td>\n",
       "    </tr>\n",
       "    <tr>\n",
       "      <th>Underlying_Condition_B_1</th>\n",
       "      <td>770.0</td>\n",
       "      <td>0.102597</td>\n",
       "      <td>0.303630</td>\n",
       "      <td>0.0</td>\n",
       "      <td>0.0</td>\n",
       "      <td>0.0</td>\n",
       "      <td>0.0</td>\n",
       "      <td>1.000000</td>\n",
       "    </tr>\n",
       "    <tr>\n",
       "      <th>Underlying_Condition_C_1</th>\n",
       "      <td>770.0</td>\n",
       "      <td>0.125974</td>\n",
       "      <td>0.332036</td>\n",
       "      <td>0.0</td>\n",
       "      <td>0.0</td>\n",
       "      <td>0.0</td>\n",
       "      <td>0.0</td>\n",
       "      <td>1.000000</td>\n",
       "    </tr>\n",
       "    <tr>\n",
       "      <th>Underlying_Condition_D_1.0</th>\n",
       "      <td>770.0</td>\n",
       "      <td>0.185714</td>\n",
       "      <td>0.389129</td>\n",
       "      <td>0.0</td>\n",
       "      <td>0.0</td>\n",
       "      <td>0.0</td>\n",
       "      <td>0.0</td>\n",
       "      <td>1.000000</td>\n",
       "    </tr>\n",
       "    <tr>\n",
       "      <th>Underlying_Condition_E_1.0</th>\n",
       "      <td>770.0</td>\n",
       "      <td>0.331169</td>\n",
       "      <td>0.470940</td>\n",
       "      <td>0.0</td>\n",
       "      <td>0.0</td>\n",
       "      <td>0.0</td>\n",
       "      <td>1.0</td>\n",
       "      <td>1.000000</td>\n",
       "    </tr>\n",
       "    <tr>\n",
       "      <th>Suspicion_Score_1</th>\n",
       "      <td>770.0</td>\n",
       "      <td>0.028571</td>\n",
       "      <td>0.166707</td>\n",
       "      <td>0.0</td>\n",
       "      <td>0.0</td>\n",
       "      <td>0.0</td>\n",
       "      <td>0.0</td>\n",
       "      <td>1.000000</td>\n",
       "    </tr>\n",
       "    <tr>\n",
       "      <th>Suspicion_Score_2</th>\n",
       "      <td>770.0</td>\n",
       "      <td>0.859740</td>\n",
       "      <td>0.347482</td>\n",
       "      <td>0.0</td>\n",
       "      <td>1.0</td>\n",
       "      <td>1.0</td>\n",
       "      <td>1.0</td>\n",
       "      <td>1.000000</td>\n",
       "    </tr>\n",
       "    <tr>\n",
       "      <th>Suspicion_Score_3</th>\n",
       "      <td>770.0</td>\n",
       "      <td>0.111688</td>\n",
       "      <td>0.315187</td>\n",
       "      <td>0.0</td>\n",
       "      <td>0.0</td>\n",
       "      <td>0.0</td>\n",
       "      <td>0.0</td>\n",
       "      <td>1.000000</td>\n",
       "    </tr>\n",
       "    <tr>\n",
       "      <th>Allergic_Reaction_Group_1.0</th>\n",
       "      <td>770.0</td>\n",
       "      <td>0.225974</td>\n",
       "      <td>0.418494</td>\n",
       "      <td>0.0</td>\n",
       "      <td>0.0</td>\n",
       "      <td>0.0</td>\n",
       "      <td>0.0</td>\n",
       "      <td>1.000000</td>\n",
       "    </tr>\n",
       "    <tr>\n",
       "      <th>Allergic_Reaction_Group_2.0</th>\n",
       "      <td>770.0</td>\n",
       "      <td>0.149351</td>\n",
       "      <td>0.356665</td>\n",
       "      <td>0.0</td>\n",
       "      <td>0.0</td>\n",
       "      <td>0.0</td>\n",
       "      <td>0.0</td>\n",
       "      <td>1.000000</td>\n",
       "    </tr>\n",
       "    <tr>\n",
       "      <th>Allergic_Reaction_Group_3.0</th>\n",
       "      <td>770.0</td>\n",
       "      <td>0.074026</td>\n",
       "      <td>0.261983</td>\n",
       "      <td>0.0</td>\n",
       "      <td>0.0</td>\n",
       "      <td>0.0</td>\n",
       "      <td>0.0</td>\n",
       "      <td>1.000000</td>\n",
       "    </tr>\n",
       "    <tr>\n",
       "      <th>Allergic_Reaction_Group_4.0</th>\n",
       "      <td>770.0</td>\n",
       "      <td>0.054545</td>\n",
       "      <td>0.227238</td>\n",
       "      <td>0.0</td>\n",
       "      <td>0.0</td>\n",
       "      <td>0.0</td>\n",
       "      <td>0.0</td>\n",
       "      <td>1.000000</td>\n",
       "    </tr>\n",
       "    <tr>\n",
       "      <th>Allergic_Reaction_Group_5.0</th>\n",
       "      <td>770.0</td>\n",
       "      <td>0.109091</td>\n",
       "      <td>0.311956</td>\n",
       "      <td>0.0</td>\n",
       "      <td>0.0</td>\n",
       "      <td>0.0</td>\n",
       "      <td>0.0</td>\n",
       "      <td>1.000000</td>\n",
       "    </tr>\n",
       "    <tr>\n",
       "      <th>Allergic_Reaction_Group_6.0</th>\n",
       "      <td>770.0</td>\n",
       "      <td>0.254545</td>\n",
       "      <td>0.435889</td>\n",
       "      <td>0.0</td>\n",
       "      <td>0.0</td>\n",
       "      <td>0.0</td>\n",
       "      <td>1.0</td>\n",
       "      <td>1.000000</td>\n",
       "    </tr>\n",
       "    <tr>\n",
       "      <th>Allergic_Reaction_Group_7.0</th>\n",
       "      <td>770.0</td>\n",
       "      <td>0.088312</td>\n",
       "      <td>0.283932</td>\n",
       "      <td>0.0</td>\n",
       "      <td>0.0</td>\n",
       "      <td>0.0</td>\n",
       "      <td>0.0</td>\n",
       "      <td>1.000000</td>\n",
       "    </tr>\n",
       "    <tr>\n",
       "      <th>Allergic_Reaction_Group_8.0</th>\n",
       "      <td>770.0</td>\n",
       "      <td>0.044156</td>\n",
       "      <td>0.205575</td>\n",
       "      <td>0.0</td>\n",
       "      <td>0.0</td>\n",
       "      <td>0.0</td>\n",
       "      <td>0.0</td>\n",
       "      <td>1.000000</td>\n",
       "    </tr>\n",
       "    <tr>\n",
       "      <th>Drug_Group_1</th>\n",
       "      <td>770.0</td>\n",
       "      <td>0.280519</td>\n",
       "      <td>0.449545</td>\n",
       "      <td>0.0</td>\n",
       "      <td>0.0</td>\n",
       "      <td>0.0</td>\n",
       "      <td>1.0</td>\n",
       "      <td>1.000000</td>\n",
       "    </tr>\n",
       "    <tr>\n",
       "      <th>Drug_Group_2</th>\n",
       "      <td>770.0</td>\n",
       "      <td>0.094805</td>\n",
       "      <td>0.293136</td>\n",
       "      <td>0.0</td>\n",
       "      <td>0.0</td>\n",
       "      <td>0.0</td>\n",
       "      <td>0.0</td>\n",
       "      <td>1.000000</td>\n",
       "    </tr>\n",
       "    <tr>\n",
       "      <th>Drug_Group_3</th>\n",
       "      <td>770.0</td>\n",
       "      <td>0.180519</td>\n",
       "      <td>0.384870</td>\n",
       "      <td>0.0</td>\n",
       "      <td>0.0</td>\n",
       "      <td>0.0</td>\n",
       "      <td>0.0</td>\n",
       "      <td>1.000000</td>\n",
       "    </tr>\n",
       "    <tr>\n",
       "      <th>Drug_Group_4</th>\n",
       "      <td>770.0</td>\n",
       "      <td>0.054545</td>\n",
       "      <td>0.227238</td>\n",
       "      <td>0.0</td>\n",
       "      <td>0.0</td>\n",
       "      <td>0.0</td>\n",
       "      <td>0.0</td>\n",
       "      <td>1.000000</td>\n",
       "    </tr>\n",
       "    <tr>\n",
       "      <th>Drug_Group_5</th>\n",
       "      <td>770.0</td>\n",
       "      <td>0.050649</td>\n",
       "      <td>0.219423</td>\n",
       "      <td>0.0</td>\n",
       "      <td>0.0</td>\n",
       "      <td>0.0</td>\n",
       "      <td>0.0</td>\n",
       "      <td>1.000000</td>\n",
       "    </tr>\n",
       "    <tr>\n",
       "      <th>Drug_Group_6</th>\n",
       "      <td>770.0</td>\n",
       "      <td>0.080519</td>\n",
       "      <td>0.272273</td>\n",
       "      <td>0.0</td>\n",
       "      <td>0.0</td>\n",
       "      <td>0.0</td>\n",
       "      <td>0.0</td>\n",
       "      <td>1.000000</td>\n",
       "    </tr>\n",
       "    <tr>\n",
       "      <th>Drug_Group_7</th>\n",
       "      <td>770.0</td>\n",
       "      <td>0.171429</td>\n",
       "      <td>0.377128</td>\n",
       "      <td>0.0</td>\n",
       "      <td>0.0</td>\n",
       "      <td>0.0</td>\n",
       "      <td>0.0</td>\n",
       "      <td>1.000000</td>\n",
       "    </tr>\n",
       "    <tr>\n",
       "      <th>Drug_Group_8</th>\n",
       "      <td>770.0</td>\n",
       "      <td>0.087013</td>\n",
       "      <td>0.282037</td>\n",
       "      <td>0.0</td>\n",
       "      <td>0.0</td>\n",
       "      <td>0.0</td>\n",
       "      <td>0.0</td>\n",
       "      <td>1.000000</td>\n",
       "    </tr>\n",
       "  </tbody>\n",
       "</table>\n",
       "</div>"
      ],
      "text/plain": [
       "                             count        mean         std  min    25%    50%  \\\n",
       "Patient_ID                   770.0  371.910390  145.084984  2.0  313.0  401.0   \n",
       "Age_Year                     770.0   51.264935   22.331757  0.0   36.0   54.0   \n",
       "Exposure_Time                770.0   16.051948   20.890993  0.0    5.0   10.5   \n",
       "Drug_Rechallenge_Result      114.0    0.245614    0.432351  0.0    0.0    0.0   \n",
       "elis_ratio                   770.0    0.006733    0.029677  0.0    0.0    0.0   \n",
       "Gender_1                     770.0    0.554545    0.497339  0.0    0.0    1.0   \n",
       "Naranjo_Category_0.0         770.0    0.028571    0.166707  0.0    0.0    0.0   \n",
       "Naranjo_Category_1.0         770.0    0.824675    0.380492  0.0    1.0    1.0   \n",
       "Naranjo_Category_2.0         770.0    0.137662    0.344769  0.0    0.0    0.0   \n",
       "Naranjo_Category_3.0         770.0    0.009091    0.094974  0.0    0.0    0.0   \n",
       "Steroid_Usage_1              770.0    0.359740    0.480236  0.0    0.0    0.0   \n",
       "Underlying_Condition_A_1.0   770.0    0.066234    0.248852  0.0    0.0    0.0   \n",
       "Underlying_Condition_B_1     770.0    0.102597    0.303630  0.0    0.0    0.0   \n",
       "Underlying_Condition_C_1     770.0    0.125974    0.332036  0.0    0.0    0.0   \n",
       "Underlying_Condition_D_1.0   770.0    0.185714    0.389129  0.0    0.0    0.0   \n",
       "Underlying_Condition_E_1.0   770.0    0.331169    0.470940  0.0    0.0    0.0   \n",
       "Suspicion_Score_1            770.0    0.028571    0.166707  0.0    0.0    0.0   \n",
       "Suspicion_Score_2            770.0    0.859740    0.347482  0.0    1.0    1.0   \n",
       "Suspicion_Score_3            770.0    0.111688    0.315187  0.0    0.0    0.0   \n",
       "Allergic_Reaction_Group_1.0  770.0    0.225974    0.418494  0.0    0.0    0.0   \n",
       "Allergic_Reaction_Group_2.0  770.0    0.149351    0.356665  0.0    0.0    0.0   \n",
       "Allergic_Reaction_Group_3.0  770.0    0.074026    0.261983  0.0    0.0    0.0   \n",
       "Allergic_Reaction_Group_4.0  770.0    0.054545    0.227238  0.0    0.0    0.0   \n",
       "Allergic_Reaction_Group_5.0  770.0    0.109091    0.311956  0.0    0.0    0.0   \n",
       "Allergic_Reaction_Group_6.0  770.0    0.254545    0.435889  0.0    0.0    0.0   \n",
       "Allergic_Reaction_Group_7.0  770.0    0.088312    0.283932  0.0    0.0    0.0   \n",
       "Allergic_Reaction_Group_8.0  770.0    0.044156    0.205575  0.0    0.0    0.0   \n",
       "Drug_Group_1                 770.0    0.280519    0.449545  0.0    0.0    0.0   \n",
       "Drug_Group_2                 770.0    0.094805    0.293136  0.0    0.0    0.0   \n",
       "Drug_Group_3                 770.0    0.180519    0.384870  0.0    0.0    0.0   \n",
       "Drug_Group_4                 770.0    0.054545    0.227238  0.0    0.0    0.0   \n",
       "Drug_Group_5                 770.0    0.050649    0.219423  0.0    0.0    0.0   \n",
       "Drug_Group_6                 770.0    0.080519    0.272273  0.0    0.0    0.0   \n",
       "Drug_Group_7                 770.0    0.171429    0.377128  0.0    0.0    0.0   \n",
       "Drug_Group_8                 770.0    0.087013    0.282037  0.0    0.0    0.0   \n",
       "\n",
       "                               75%         max  \n",
       "Patient_ID                   482.0  570.000000  \n",
       "Age_Year                      70.0   97.000000  \n",
       "Exposure_Time                 17.0  120.000000  \n",
       "Drug_Rechallenge_Result        0.0    1.000000  \n",
       "elis_ratio                     0.0    0.543317  \n",
       "Gender_1                       1.0    1.000000  \n",
       "Naranjo_Category_0.0           0.0    1.000000  \n",
       "Naranjo_Category_1.0           1.0    1.000000  \n",
       "Naranjo_Category_2.0           0.0    1.000000  \n",
       "Naranjo_Category_3.0           0.0    1.000000  \n",
       "Steroid_Usage_1                1.0    1.000000  \n",
       "Underlying_Condition_A_1.0     0.0    1.000000  \n",
       "Underlying_Condition_B_1       0.0    1.000000  \n",
       "Underlying_Condition_C_1       0.0    1.000000  \n",
       "Underlying_Condition_D_1.0     0.0    1.000000  \n",
       "Underlying_Condition_E_1.0     1.0    1.000000  \n",
       "Suspicion_Score_1              0.0    1.000000  \n",
       "Suspicion_Score_2              1.0    1.000000  \n",
       "Suspicion_Score_3              0.0    1.000000  \n",
       "Allergic_Reaction_Group_1.0    0.0    1.000000  \n",
       "Allergic_Reaction_Group_2.0    0.0    1.000000  \n",
       "Allergic_Reaction_Group_3.0    0.0    1.000000  \n",
       "Allergic_Reaction_Group_4.0    0.0    1.000000  \n",
       "Allergic_Reaction_Group_5.0    0.0    1.000000  \n",
       "Allergic_Reaction_Group_6.0    1.0    1.000000  \n",
       "Allergic_Reaction_Group_7.0    0.0    1.000000  \n",
       "Allergic_Reaction_Group_8.0    0.0    1.000000  \n",
       "Drug_Group_1                   1.0    1.000000  \n",
       "Drug_Group_2                   0.0    1.000000  \n",
       "Drug_Group_3                   0.0    1.000000  \n",
       "Drug_Group_4                   0.0    1.000000  \n",
       "Drug_Group_5                   0.0    1.000000  \n",
       "Drug_Group_6                   0.0    1.000000  \n",
       "Drug_Group_7                   0.0    1.000000  \n",
       "Drug_Group_8                   0.0    1.000000  "
      ]
     },
     "execution_count": 36,
     "metadata": {},
     "output_type": "execute_result"
    }
   ],
   "source": [
    "data.describe().transpose()"
   ]
  },
  {
   "cell_type": "markdown",
   "metadata": {},
   "source": [
    "# Train/Test Split\n",
    "\n",
    "Assign 'data_ready' is the data frame with ground truth values.\n",
    "\n",
    "Assign 'data_for_predict' is the data frame with missing ground truth."
   ]
  },
  {
   "cell_type": "code",
   "execution_count": 37,
   "metadata": {},
   "outputs": [],
   "source": [
    "data_ready = data[data['Drug_Rechallenge_Result'].notnull()]\n",
    "id_ready = data_ready['Patient_ID']\n",
    "data_ready = data_ready.drop('Patient_ID',axis=1)"
   ]
  },
  {
   "cell_type": "code",
   "execution_count": 38,
   "metadata": {},
   "outputs": [],
   "source": [
    "data_for_predict = data[data['Drug_Rechallenge_Result'].isnull()]\n",
    "id_prediction_set = data_for_predict['Patient_ID']\n",
    "data_for_predict = data_for_predict.drop('Patient_ID',axis=1)\n",
    "data_for_predict = data_for_predict.drop('Drug_Rechallenge_Result',axis=1)"
   ]
  },
  {
   "cell_type": "code",
   "execution_count": 39,
   "metadata": {},
   "outputs": [],
   "source": [
    "all_y = data_ready['Drug_Rechallenge_Result']\n",
    "all_x = data_ready.drop('Drug_Rechallenge_Result',axis=1)"
   ]
  },
  {
   "cell_type": "code",
   "execution_count": 40,
   "metadata": {},
   "outputs": [],
   "source": [
    "from sklearn.model_selection import train_test_split"
   ]
  },
  {
   "cell_type": "code",
   "execution_count": 41,
   "metadata": {},
   "outputs": [],
   "source": [
    "x_train, x_test, y_train, y_test = train_test_split(all_x, all_y, test_size=0.2, random_state=1)"
   ]
  },
  {
   "cell_type": "markdown",
   "metadata": {},
   "source": [
    "# Normalizing Data"
   ]
  },
  {
   "cell_type": "code",
   "execution_count": 42,
   "metadata": {},
   "outputs": [],
   "source": [
    "from sklearn.preprocessing import MinMaxScaler"
   ]
  },
  {
   "cell_type": "code",
   "execution_count": 43,
   "metadata": {},
   "outputs": [],
   "source": [
    "scaler = MinMaxScaler()"
   ]
  },
  {
   "cell_type": "code",
   "execution_count": 44,
   "metadata": {},
   "outputs": [
    {
     "data": {
      "text/plain": [
       "MinMaxScaler(copy=True, feature_range=(0, 1))"
      ]
     },
     "execution_count": 44,
     "metadata": {},
     "output_type": "execute_result"
    }
   ],
   "source": [
    "scaler.fit(x_train)"
   ]
  },
  {
   "cell_type": "code",
   "execution_count": 45,
   "metadata": {},
   "outputs": [],
   "source": [
    "x_train = scaler.transform(x_train)\n",
    "x_test = scaler.transform(x_test)"
   ]
  },
  {
   "cell_type": "markdown",
   "metadata": {},
   "source": [
    "# Creating Models : 1. Logistic Regression "
   ]
  },
  {
   "cell_type": "code",
   "execution_count": 46,
   "metadata": {},
   "outputs": [],
   "source": [
    "from sklearn.linear_model import LogisticRegression"
   ]
  },
  {
   "cell_type": "code",
   "execution_count": 47,
   "metadata": {},
   "outputs": [],
   "source": [
    "lr = LogisticRegression()"
   ]
  },
  {
   "cell_type": "code",
   "execution_count": 48,
   "metadata": {},
   "outputs": [
    {
     "data": {
      "text/plain": [
       "LogisticRegression(C=1.0, class_weight=None, dual=False, fit_intercept=True,\n",
       "                   intercept_scaling=1, l1_ratio=None, max_iter=100,\n",
       "                   multi_class='auto', n_jobs=None, penalty='l2',\n",
       "                   random_state=None, solver='lbfgs', tol=0.0001, verbose=0,\n",
       "                   warm_start=False)"
      ]
     },
     "execution_count": 48,
     "metadata": {},
     "output_type": "execute_result"
    }
   ],
   "source": [
    "lr.fit(x_train,y_train)"
   ]
  },
  {
   "cell_type": "code",
   "execution_count": 49,
   "metadata": {},
   "outputs": [],
   "source": [
    "predictions = lr.predict(x_test)"
   ]
  },
  {
   "cell_type": "markdown",
   "metadata": {},
   "source": [
    "# Model evaluation"
   ]
  },
  {
   "cell_type": "code",
   "execution_count": 50,
   "metadata": {},
   "outputs": [],
   "source": [
    "from sklearn.metrics import classification_report,confusion_matrix"
   ]
  },
  {
   "cell_type": "code",
   "execution_count": 51,
   "metadata": {},
   "outputs": [
    {
     "name": "stdout",
     "output_type": "stream",
     "text": [
      "              precision    recall  f1-score   support\n",
      "\n",
      "         0.0       0.94      1.00      0.97        16\n",
      "         1.0       1.00      0.86      0.92         7\n",
      "\n",
      "    accuracy                           0.96        23\n",
      "   macro avg       0.97      0.93      0.95        23\n",
      "weighted avg       0.96      0.96      0.96        23\n",
      "\n"
     ]
    }
   ],
   "source": [
    "print(classification_report(y_test,predictions))"
   ]
  },
  {
   "cell_type": "code",
   "execution_count": 52,
   "metadata": {
    "scrolled": true
   },
   "outputs": [
    {
     "name": "stdout",
     "output_type": "stream",
     "text": [
      "[[16  0]\n",
      " [ 1  6]]\n"
     ]
    }
   ],
   "source": [
    "print(confusion_matrix(y_test,predictions))"
   ]
  },
  {
   "cell_type": "markdown",
   "metadata": {},
   "source": [
    "# Creating Models: 2. Neural Network"
   ]
  },
  {
   "cell_type": "code",
   "execution_count": 53,
   "metadata": {},
   "outputs": [
    {
     "data": {
      "text/plain": [
       "(91, 33)"
      ]
     },
     "execution_count": 53,
     "metadata": {},
     "output_type": "execute_result"
    }
   ],
   "source": [
    "x_train.shape"
   ]
  },
  {
   "cell_type": "code",
   "execution_count": 54,
   "metadata": {},
   "outputs": [],
   "source": [
    "y_train = y_train.values"
   ]
  },
  {
   "cell_type": "code",
   "execution_count": 55,
   "metadata": {},
   "outputs": [],
   "source": [
    "import tensorflow as tf"
   ]
  },
  {
   "cell_type": "code",
   "execution_count": 56,
   "metadata": {},
   "outputs": [],
   "source": [
    "from tensorflow.keras.models import Sequential\n",
    "from tensorflow.keras.layers import Dense, Activation"
   ]
  },
  {
   "cell_type": "code",
   "execution_count": 57,
   "metadata": {},
   "outputs": [],
   "source": [
    "from tensorflow.keras.callbacks import EarlyStopping, ModelCheckpoint"
   ]
  },
  {
   "cell_type": "code",
   "execution_count": 58,
   "metadata": {},
   "outputs": [],
   "source": [
    "early_stop = EarlyStopping(monitor='val_loss',mode='min',verbose=1,patience=20)\n",
    "check_point = ModelCheckpoint('drug_allergy_weight.hdf5', monitor='val_accuracy',save_best_only=True)"
   ]
  },
  {
   "cell_type": "code",
   "execution_count": 59,
   "metadata": {},
   "outputs": [],
   "source": [
    "model = Sequential()\n",
    "\n",
    "model.add(Dense(units=33,activation='relu'))\n",
    "model.add(Dense(units=10,activation='relu'))\n",
    "\n",
    "model.add(Dense(units=1, activation='sigmoid'))\n",
    "\n",
    "model.compile(loss='binary_crossentropy',optimizer='adam',metrics=['accuracy'])"
   ]
  },
  {
   "cell_type": "code",
   "execution_count": 60,
   "metadata": {
    "scrolled": true
   },
   "outputs": [
    {
     "name": "stdout",
     "output_type": "stream",
     "text": [
      "Train on 91 samples, validate on 23 samples\n",
      "Epoch 1/300\n",
      "91/91 [==============================] - 1s 6ms/sample - loss: 0.6237 - accuracy: 0.7582 - val_loss: 0.6693 - val_accuracy: 0.6957\n",
      "Epoch 2/300\n",
      "91/91 [==============================] - 0s 142us/sample - loss: 0.6057 - accuracy: 0.7692 - val_loss: 0.6607 - val_accuracy: 0.6957\n",
      "Epoch 3/300\n",
      "91/91 [==============================] - 0s 132us/sample - loss: 0.5937 - accuracy: 0.7692 - val_loss: 0.6519 - val_accuracy: 0.6957\n",
      "Epoch 4/300\n",
      "91/91 [==============================] - 0s 142us/sample - loss: 0.5813 - accuracy: 0.7692 - val_loss: 0.6441 - val_accuracy: 0.6957\n",
      "Epoch 5/300\n",
      "91/91 [==============================] - 0s 132us/sample - loss: 0.5707 - accuracy: 0.7692 - val_loss: 0.6377 - val_accuracy: 0.6957\n",
      "Epoch 6/300\n",
      "91/91 [==============================] - 0s 142us/sample - loss: 0.5597 - accuracy: 0.7692 - val_loss: 0.6324 - val_accuracy: 0.6957\n",
      "Epoch 7/300\n",
      "91/91 [==============================] - 0s 175us/sample - loss: 0.5509 - accuracy: 0.7692 - val_loss: 0.6276 - val_accuracy: 0.6957\n",
      "Epoch 8/300\n",
      "91/91 [==============================] - 0s 164us/sample - loss: 0.5428 - accuracy: 0.7692 - val_loss: 0.6232 - val_accuracy: 0.6957\n",
      "Epoch 9/300\n",
      "91/91 [==============================] - 0s 186us/sample - loss: 0.5365 - accuracy: 0.7692 - val_loss: 0.6196 - val_accuracy: 0.6957\n",
      "Epoch 10/300\n",
      "91/91 [==============================] - 0s 175us/sample - loss: 0.5310 - accuracy: 0.7692 - val_loss: 0.6161 - val_accuracy: 0.6957\n",
      "Epoch 11/300\n",
      "91/91 [==============================] - 0s 164us/sample - loss: 0.5234 - accuracy: 0.7692 - val_loss: 0.6127 - val_accuracy: 0.6957\n",
      "Epoch 12/300\n",
      "91/91 [==============================] - 0s 197us/sample - loss: 0.5204 - accuracy: 0.7692 - val_loss: 0.6099 - val_accuracy: 0.6957\n",
      "Epoch 13/300\n",
      "91/91 [==============================] - 0s 175us/sample - loss: 0.5153 - accuracy: 0.7692 - val_loss: 0.6070 - val_accuracy: 0.6957\n",
      "Epoch 14/300\n",
      "91/91 [==============================] - 0s 142us/sample - loss: 0.5107 - accuracy: 0.7692 - val_loss: 0.6044 - val_accuracy: 0.6957\n",
      "Epoch 15/300\n",
      "91/91 [==============================] - 0s 186us/sample - loss: 0.5080 - accuracy: 0.7692 - val_loss: 0.6017 - val_accuracy: 0.6957\n",
      "Epoch 16/300\n",
      "91/91 [==============================] - 0s 175us/sample - loss: 0.5044 - accuracy: 0.7692 - val_loss: 0.5987 - val_accuracy: 0.6957\n",
      "Epoch 17/300\n",
      "91/91 [==============================] - 0s 142us/sample - loss: 0.5013 - accuracy: 0.7692 - val_loss: 0.5957 - val_accuracy: 0.6957\n",
      "Epoch 18/300\n",
      "91/91 [==============================] - 0s 142us/sample - loss: 0.4979 - accuracy: 0.7692 - val_loss: 0.5921 - val_accuracy: 0.6957\n",
      "Epoch 19/300\n",
      "91/91 [==============================] - 0s 142us/sample - loss: 0.4948 - accuracy: 0.7692 - val_loss: 0.5885 - val_accuracy: 0.6957\n",
      "Epoch 20/300\n",
      "91/91 [==============================] - 0s 153us/sample - loss: 0.4924 - accuracy: 0.7692 - val_loss: 0.5847 - val_accuracy: 0.6957\n",
      "Epoch 21/300\n",
      "91/91 [==============================] - 0s 131us/sample - loss: 0.4889 - accuracy: 0.7692 - val_loss: 0.5811 - val_accuracy: 0.6957\n",
      "Epoch 22/300\n",
      "91/91 [==============================] - 0s 121us/sample - loss: 0.4863 - accuracy: 0.7692 - val_loss: 0.5772 - val_accuracy: 0.6957\n",
      "Epoch 23/300\n",
      "91/91 [==============================] - 0s 1ms/sample - loss: 0.4838 - accuracy: 0.7692 - val_loss: 0.5734 - val_accuracy: 0.6957\n",
      "Epoch 24/300\n",
      "91/91 [==============================] - 0s 129us/sample - loss: 0.4809 - accuracy: 0.7692 - val_loss: 0.5691 - val_accuracy: 0.6957\n",
      "Epoch 25/300\n",
      "91/91 [==============================] - 0s 120us/sample - loss: 0.4785 - accuracy: 0.7692 - val_loss: 0.5652 - val_accuracy: 0.6957\n",
      "Epoch 26/300\n",
      "91/91 [==============================] - 0s 113us/sample - loss: 0.4755 - accuracy: 0.7692 - val_loss: 0.5614 - val_accuracy: 0.6957\n",
      "Epoch 27/300\n",
      "91/91 [==============================] - 0s 131us/sample - loss: 0.4731 - accuracy: 0.7692 - val_loss: 0.5575 - val_accuracy: 0.6957\n",
      "Epoch 28/300\n",
      "91/91 [==============================] - 0s 113us/sample - loss: 0.4707 - accuracy: 0.7692 - val_loss: 0.5532 - val_accuracy: 0.6957\n",
      "Epoch 29/300\n",
      "91/91 [==============================] - 0s 121us/sample - loss: 0.4683 - accuracy: 0.7692 - val_loss: 0.5489 - val_accuracy: 0.6957\n",
      "Epoch 30/300\n",
      "91/91 [==============================] - 0s 143us/sample - loss: 0.4655 - accuracy: 0.7692 - val_loss: 0.5451 - val_accuracy: 0.6957\n",
      "Epoch 31/300\n",
      "91/91 [==============================] - 0s 132us/sample - loss: 0.4632 - accuracy: 0.7692 - val_loss: 0.5414 - val_accuracy: 0.6957\n",
      "Epoch 32/300\n",
      "91/91 [==============================] - 0s 123us/sample - loss: 0.4605 - accuracy: 0.7692 - val_loss: 0.5378 - val_accuracy: 0.6957\n",
      "Epoch 33/300\n",
      "91/91 [==============================] - 0s 131us/sample - loss: 0.4583 - accuracy: 0.7692 - val_loss: 0.5335 - val_accuracy: 0.6957\n",
      "Epoch 34/300\n",
      "91/91 [==============================] - 0s 133us/sample - loss: 0.4558 - accuracy: 0.7692 - val_loss: 0.5288 - val_accuracy: 0.6957\n",
      "Epoch 35/300\n",
      "91/91 [==============================] - 0s 132us/sample - loss: 0.4531 - accuracy: 0.7692 - val_loss: 0.5255 - val_accuracy: 0.6957\n",
      "Epoch 36/300\n",
      "91/91 [==============================] - 0s 128us/sample - loss: 0.4508 - accuracy: 0.7692 - val_loss: 0.5218 - val_accuracy: 0.6957\n",
      "Epoch 37/300\n",
      "91/91 [==============================] - 0s 112us/sample - loss: 0.4480 - accuracy: 0.7692 - val_loss: 0.5177 - val_accuracy: 0.6957\n",
      "Epoch 38/300\n",
      "91/91 [==============================] - 0s 126us/sample - loss: 0.4456 - accuracy: 0.7692 - val_loss: 0.5139 - val_accuracy: 0.6957\n",
      "Epoch 39/300\n",
      "91/91 [==============================] - 0s 142us/sample - loss: 0.4430 - accuracy: 0.7692 - val_loss: 0.5102 - val_accuracy: 0.6957\n",
      "Epoch 40/300\n",
      "91/91 [==============================] - 0s 97us/sample - loss: 0.4402 - accuracy: 0.7692 - val_loss: 0.5067 - val_accuracy: 0.6957\n",
      "Epoch 41/300\n",
      "91/91 [==============================] - 0s 131us/sample - loss: 0.4376 - accuracy: 0.7692 - val_loss: 0.5028 - val_accuracy: 0.6957\n",
      "Epoch 42/300\n",
      "91/91 [==============================] - 0s 126us/sample - loss: 0.4349 - accuracy: 0.7692 - val_loss: 0.4990 - val_accuracy: 0.6957\n",
      "Epoch 43/300\n",
      "91/91 [==============================] - 0s 121us/sample - loss: 0.4325 - accuracy: 0.7692 - val_loss: 0.4951 - val_accuracy: 0.6957\n",
      "Epoch 44/300\n",
      "91/91 [==============================] - 0s 132us/sample - loss: 0.4299 - accuracy: 0.7802 - val_loss: 0.4917 - val_accuracy: 0.6957\n",
      "Epoch 45/300\n",
      "91/91 [==============================] - 0s 187us/sample - loss: 0.4276 - accuracy: 0.7802 - val_loss: 0.4894 - val_accuracy: 0.6957\n",
      "Epoch 46/300\n",
      "91/91 [==============================] - 0s 142us/sample - loss: 0.4246 - accuracy: 0.7802 - val_loss: 0.4861 - val_accuracy: 0.6957\n",
      "Epoch 47/300\n",
      "91/91 [==============================] - 0s 132us/sample - loss: 0.4221 - accuracy: 0.7802 - val_loss: 0.4822 - val_accuracy: 0.6957\n",
      "Epoch 48/300\n",
      "91/91 [==============================] - 0s 119us/sample - loss: 0.4196 - accuracy: 0.7802 - val_loss: 0.4778 - val_accuracy: 0.6957\n",
      "Epoch 49/300\n",
      "91/91 [==============================] - 0s 113us/sample - loss: 0.4169 - accuracy: 0.7802 - val_loss: 0.4745 - val_accuracy: 0.6957\n",
      "Epoch 50/300\n",
      "91/91 [==============================] - 0s 117us/sample - loss: 0.4147 - accuracy: 0.7802 - val_loss: 0.4703 - val_accuracy: 0.6957\n",
      "Epoch 51/300\n",
      "91/91 [==============================] - 0s 115us/sample - loss: 0.4121 - accuracy: 0.7802 - val_loss: 0.4674 - val_accuracy: 0.6957\n",
      "Epoch 52/300\n",
      "91/91 [==============================] - 0s 110us/sample - loss: 0.4093 - accuracy: 0.7802 - val_loss: 0.4638 - val_accuracy: 0.6957\n",
      "Epoch 53/300\n",
      "91/91 [==============================] - 0s 119us/sample - loss: 0.4069 - accuracy: 0.7802 - val_loss: 0.4595 - val_accuracy: 0.6957\n",
      "Epoch 54/300\n",
      "91/91 [==============================] - 0s 112us/sample - loss: 0.4045 - accuracy: 0.7912 - val_loss: 0.4552 - val_accuracy: 0.6957\n",
      "Epoch 55/300\n",
      "91/91 [==============================] - 0s 121us/sample - loss: 0.4019 - accuracy: 0.8022 - val_loss: 0.4516 - val_accuracy: 0.6957\n",
      "Epoch 56/300\n",
      "91/91 [==============================] - 0s 132us/sample - loss: 0.3997 - accuracy: 0.8022 - val_loss: 0.4486 - val_accuracy: 0.6957\n"
     ]
    },
    {
     "name": "stdout",
     "output_type": "stream",
     "text": [
      "Epoch 57/300\n",
      "91/91 [==============================] - 0s 108us/sample - loss: 0.3970 - accuracy: 0.8022 - val_loss: 0.4458 - val_accuracy: 0.6957\n",
      "Epoch 58/300\n",
      "91/91 [==============================] - 0s 111us/sample - loss: 0.3953 - accuracy: 0.8022 - val_loss: 0.4421 - val_accuracy: 0.6957\n",
      "Epoch 59/300\n",
      "91/91 [==============================] - 0s 116us/sample - loss: 0.3926 - accuracy: 0.8022 - val_loss: 0.4404 - val_accuracy: 0.6957\n",
      "Epoch 60/300\n",
      "91/91 [==============================] - 0s 126us/sample - loss: 0.3900 - accuracy: 0.8022 - val_loss: 0.4378 - val_accuracy: 0.6957\n",
      "Epoch 61/300\n",
      "91/91 [==============================] - 0s 113us/sample - loss: 0.3876 - accuracy: 0.8022 - val_loss: 0.4342 - val_accuracy: 0.6957\n",
      "Epoch 62/300\n",
      "91/91 [==============================] - 0s 109us/sample - loss: 0.3850 - accuracy: 0.8022 - val_loss: 0.4310 - val_accuracy: 0.6957\n",
      "Epoch 63/300\n",
      "91/91 [==============================] - 0s 121us/sample - loss: 0.3825 - accuracy: 0.8022 - val_loss: 0.4288 - val_accuracy: 0.6957\n",
      "Epoch 64/300\n",
      "91/91 [==============================] - 0s 131us/sample - loss: 0.3801 - accuracy: 0.8022 - val_loss: 0.4265 - val_accuracy: 0.6957\n",
      "Epoch 65/300\n",
      "91/91 [==============================] - 0s 107us/sample - loss: 0.3772 - accuracy: 0.8022 - val_loss: 0.4242 - val_accuracy: 0.6957\n",
      "Epoch 66/300\n",
      "91/91 [==============================] - 0s 121us/sample - loss: 0.3744 - accuracy: 0.8022 - val_loss: 0.4243 - val_accuracy: 0.6957\n",
      "Epoch 67/300\n",
      "91/91 [==============================] - 0s 122us/sample - loss: 0.3716 - accuracy: 0.8022 - val_loss: 0.4232 - val_accuracy: 0.6957\n",
      "Epoch 68/300\n",
      "91/91 [==============================] - 0s 111us/sample - loss: 0.3691 - accuracy: 0.8022 - val_loss: 0.4215 - val_accuracy: 0.6957\n",
      "Epoch 69/300\n",
      "91/91 [==============================] - 0s 118us/sample - loss: 0.3660 - accuracy: 0.8022 - val_loss: 0.4185 - val_accuracy: 0.6957\n",
      "Epoch 70/300\n",
      "91/91 [==============================] - 0s 109us/sample - loss: 0.3637 - accuracy: 0.8022 - val_loss: 0.4157 - val_accuracy: 0.6957\n",
      "Epoch 71/300\n",
      "91/91 [==============================] - 0s 103us/sample - loss: 0.3612 - accuracy: 0.8022 - val_loss: 0.4137 - val_accuracy: 0.6957\n",
      "Epoch 72/300\n",
      "91/91 [==============================] - 0s 117us/sample - loss: 0.3585 - accuracy: 0.8022 - val_loss: 0.4109 - val_accuracy: 0.6957\n",
      "Epoch 73/300\n",
      "91/91 [==============================] - 0s 106us/sample - loss: 0.3562 - accuracy: 0.8132 - val_loss: 0.4097 - val_accuracy: 0.6957\n",
      "Epoch 74/300\n",
      "91/91 [==============================] - 0s 109us/sample - loss: 0.3537 - accuracy: 0.8132 - val_loss: 0.4062 - val_accuracy: 0.6957\n",
      "Epoch 75/300\n",
      "91/91 [==============================] - 0s 114us/sample - loss: 0.3509 - accuracy: 0.8352 - val_loss: 0.4030 - val_accuracy: 0.6957\n",
      "Epoch 76/300\n",
      "91/91 [==============================] - 0s 113us/sample - loss: 0.3485 - accuracy: 0.8352 - val_loss: 0.4005 - val_accuracy: 0.6957\n",
      "Epoch 77/300\n",
      "91/91 [==============================] - 0s 112us/sample - loss: 0.3460 - accuracy: 0.8352 - val_loss: 0.3984 - val_accuracy: 0.6957\n",
      "Epoch 78/300\n",
      "91/91 [==============================] - 0s 107us/sample - loss: 0.3436 - accuracy: 0.8462 - val_loss: 0.3964 - val_accuracy: 0.6957\n",
      "Epoch 79/300\n",
      "91/91 [==============================] - 0s 103us/sample - loss: 0.3408 - accuracy: 0.8571 - val_loss: 0.3939 - val_accuracy: 0.6957\n",
      "Epoch 80/300\n",
      "91/91 [==============================] - 0s 107us/sample - loss: 0.3387 - accuracy: 0.8571 - val_loss: 0.3921 - val_accuracy: 0.6957\n",
      "Epoch 81/300\n",
      "91/91 [==============================] - 0s 113us/sample - loss: 0.3357 - accuracy: 0.8571 - val_loss: 0.3907 - val_accuracy: 0.6957\n",
      "Epoch 82/300\n",
      "91/91 [==============================] - 0s 123us/sample - loss: 0.3335 - accuracy: 0.8571 - val_loss: 0.3897 - val_accuracy: 0.6957\n",
      "Epoch 83/300\n",
      "91/91 [==============================] - 0s 119us/sample - loss: 0.3308 - accuracy: 0.8681 - val_loss: 0.3885 - val_accuracy: 0.6957\n",
      "Epoch 84/300\n",
      "91/91 [==============================] - 0s 633us/sample - loss: 0.3286 - accuracy: 0.8681 - val_loss: 0.3871 - val_accuracy: 0.7391\n",
      "Epoch 85/300\n",
      "91/91 [==============================] - 0s 121us/sample - loss: 0.3260 - accuracy: 0.8791 - val_loss: 0.3847 - val_accuracy: 0.7391\n",
      "Epoch 86/300\n",
      "91/91 [==============================] - 0s 121us/sample - loss: 0.3238 - accuracy: 0.8901 - val_loss: 0.3838 - val_accuracy: 0.7391\n",
      "Epoch 87/300\n",
      "91/91 [==============================] - 0s 121us/sample - loss: 0.3218 - accuracy: 0.8901 - val_loss: 0.3809 - val_accuracy: 0.7391\n",
      "Epoch 88/300\n",
      "91/91 [==============================] - 0s 112us/sample - loss: 0.3185 - accuracy: 0.8901 - val_loss: 0.3798 - val_accuracy: 0.7391\n",
      "Epoch 89/300\n",
      "91/91 [==============================] - 0s 530us/sample - loss: 0.3162 - accuracy: 0.8901 - val_loss: 0.3774 - val_accuracy: 0.7826\n",
      "Epoch 90/300\n",
      "91/91 [==============================] - 0s 121us/sample - loss: 0.3137 - accuracy: 0.8901 - val_loss: 0.3756 - val_accuracy: 0.7826\n",
      "Epoch 91/300\n",
      "91/91 [==============================] - 0s 132us/sample - loss: 0.3115 - accuracy: 0.8901 - val_loss: 0.3736 - val_accuracy: 0.7826\n",
      "Epoch 92/300\n",
      "91/91 [==============================] - 0s 118us/sample - loss: 0.3090 - accuracy: 0.8901 - val_loss: 0.3707 - val_accuracy: 0.7826\n",
      "Epoch 93/300\n",
      "91/91 [==============================] - 0s 108us/sample - loss: 0.3069 - accuracy: 0.8901 - val_loss: 0.3690 - val_accuracy: 0.7826\n",
      "Epoch 94/300\n",
      "91/91 [==============================] - 0s 100us/sample - loss: 0.3041 - accuracy: 0.8901 - val_loss: 0.3679 - val_accuracy: 0.7826\n",
      "Epoch 95/300\n",
      "91/91 [==============================] - 0s 108us/sample - loss: 0.3020 - accuracy: 0.8901 - val_loss: 0.3687 - val_accuracy: 0.7826\n",
      "Epoch 96/300\n",
      "91/91 [==============================] - 0s 113us/sample - loss: 0.2988 - accuracy: 0.8901 - val_loss: 0.3672 - val_accuracy: 0.7826\n",
      "Epoch 97/300\n",
      "91/91 [==============================] - 0s 106us/sample - loss: 0.2962 - accuracy: 0.9011 - val_loss: 0.3650 - val_accuracy: 0.7826\n",
      "Epoch 98/300\n",
      "91/91 [==============================] - 0s 98us/sample - loss: 0.2939 - accuracy: 0.9011 - val_loss: 0.3625 - val_accuracy: 0.7826\n",
      "Epoch 99/300\n",
      "91/91 [==============================] - 0s 112us/sample - loss: 0.2911 - accuracy: 0.9011 - val_loss: 0.3609 - val_accuracy: 0.7826\n",
      "Epoch 100/300\n",
      "91/91 [==============================] - 0s 102us/sample - loss: 0.2889 - accuracy: 0.9011 - val_loss: 0.3594 - val_accuracy: 0.7826\n",
      "Epoch 101/300\n",
      "91/91 [==============================] - 0s 106us/sample - loss: 0.2858 - accuracy: 0.9011 - val_loss: 0.3586 - val_accuracy: 0.7826\n",
      "Epoch 102/300\n",
      "91/91 [==============================] - 0s 113us/sample - loss: 0.2831 - accuracy: 0.9011 - val_loss: 0.3580 - val_accuracy: 0.7826\n",
      "Epoch 103/300\n",
      "91/91 [==============================] - 0s 109us/sample - loss: 0.2802 - accuracy: 0.9011 - val_loss: 0.3568 - val_accuracy: 0.7826\n",
      "Epoch 104/300\n",
      "91/91 [==============================] - 0s 97us/sample - loss: 0.2778 - accuracy: 0.9011 - val_loss: 0.3540 - val_accuracy: 0.7826\n",
      "Epoch 105/300\n",
      "91/91 [==============================] - 0s 105us/sample - loss: 0.2748 - accuracy: 0.9011 - val_loss: 0.3528 - val_accuracy: 0.7826\n",
      "Epoch 106/300\n",
      "91/91 [==============================] - 0s 115us/sample - loss: 0.2725 - accuracy: 0.9011 - val_loss: 0.3523 - val_accuracy: 0.7826\n",
      "Epoch 107/300\n",
      "91/91 [==============================] - 0s 120us/sample - loss: 0.2697 - accuracy: 0.9011 - val_loss: 0.3511 - val_accuracy: 0.7826\n",
      "Epoch 108/300\n",
      "91/91 [==============================] - 0s 121us/sample - loss: 0.2669 - accuracy: 0.9011 - val_loss: 0.3497 - val_accuracy: 0.7826\n",
      "Epoch 109/300\n",
      "91/91 [==============================] - 0s 118us/sample - loss: 0.2642 - accuracy: 0.9011 - val_loss: 0.3502 - val_accuracy: 0.7826\n",
      "Epoch 110/300\n",
      "91/91 [==============================] - 0s 113us/sample - loss: 0.2617 - accuracy: 0.9011 - val_loss: 0.3490 - val_accuracy: 0.7826\n",
      "Epoch 111/300\n",
      "91/91 [==============================] - 0s 114us/sample - loss: 0.2591 - accuracy: 0.9011 - val_loss: 0.3469 - val_accuracy: 0.7826\n",
      "Epoch 112/300\n",
      "91/91 [==============================] - 0s 121us/sample - loss: 0.2564 - accuracy: 0.9011 - val_loss: 0.3471 - val_accuracy: 0.7826\n",
      "Epoch 113/300\n"
     ]
    },
    {
     "name": "stdout",
     "output_type": "stream",
     "text": [
      "91/91 [==============================] - 0s 105us/sample - loss: 0.2546 - accuracy: 0.9011 - val_loss: 0.3473 - val_accuracy: 0.7826\n",
      "Epoch 114/300\n",
      "91/91 [==============================] - 0s 112us/sample - loss: 0.2515 - accuracy: 0.9011 - val_loss: 0.3437 - val_accuracy: 0.7826\n",
      "Epoch 115/300\n",
      "91/91 [==============================] - 0s 113us/sample - loss: 0.2492 - accuracy: 0.9121 - val_loss: 0.3409 - val_accuracy: 0.7826\n",
      "Epoch 116/300\n",
      "91/91 [==============================] - 0s 113us/sample - loss: 0.2465 - accuracy: 0.9121 - val_loss: 0.3410 - val_accuracy: 0.7826\n",
      "Epoch 117/300\n",
      "91/91 [==============================] - 0s 112us/sample - loss: 0.2439 - accuracy: 0.9121 - val_loss: 0.3407 - val_accuracy: 0.7826\n",
      "Epoch 118/300\n",
      "91/91 [==============================] - 0s 106us/sample - loss: 0.2417 - accuracy: 0.9121 - val_loss: 0.3401 - val_accuracy: 0.7826\n",
      "Epoch 119/300\n",
      "91/91 [==============================] - 0s 123us/sample - loss: 0.2389 - accuracy: 0.9231 - val_loss: 0.3399 - val_accuracy: 0.7826\n",
      "Epoch 120/300\n",
      "91/91 [==============================] - 0s 122us/sample - loss: 0.2365 - accuracy: 0.9231 - val_loss: 0.3374 - val_accuracy: 0.7826\n",
      "Epoch 121/300\n",
      "91/91 [==============================] - 0s 110us/sample - loss: 0.2343 - accuracy: 0.9231 - val_loss: 0.3369 - val_accuracy: 0.7826\n",
      "Epoch 122/300\n",
      "91/91 [==============================] - 0s 98us/sample - loss: 0.2321 - accuracy: 0.9231 - val_loss: 0.3351 - val_accuracy: 0.7391\n",
      "Epoch 123/300\n",
      "91/91 [==============================] - 0s 103us/sample - loss: 0.2299 - accuracy: 0.9231 - val_loss: 0.3327 - val_accuracy: 0.7826\n",
      "Epoch 124/300\n",
      "91/91 [==============================] - 0s 106us/sample - loss: 0.2277 - accuracy: 0.9231 - val_loss: 0.3331 - val_accuracy: 0.7826\n",
      "Epoch 125/300\n",
      "91/91 [==============================] - 0s 111us/sample - loss: 0.2262 - accuracy: 0.9231 - val_loss: 0.3344 - val_accuracy: 0.7826\n",
      "Epoch 126/300\n",
      "91/91 [==============================] - 0s 121us/sample - loss: 0.2231 - accuracy: 0.9231 - val_loss: 0.3325 - val_accuracy: 0.7826\n",
      "Epoch 127/300\n",
      "91/91 [==============================] - 0s 120us/sample - loss: 0.2215 - accuracy: 0.9231 - val_loss: 0.3306 - val_accuracy: 0.7826\n",
      "Epoch 128/300\n",
      "91/91 [==============================] - 0s 108us/sample - loss: 0.2185 - accuracy: 0.9231 - val_loss: 0.3324 - val_accuracy: 0.7826\n",
      "Epoch 129/300\n",
      "91/91 [==============================] - 0s 121us/sample - loss: 0.2163 - accuracy: 0.9231 - val_loss: 0.3341 - val_accuracy: 0.7826\n",
      "Epoch 130/300\n",
      "91/91 [==============================] - 0s 123us/sample - loss: 0.2144 - accuracy: 0.9231 - val_loss: 0.3345 - val_accuracy: 0.7826\n",
      "Epoch 131/300\n",
      "91/91 [==============================] - 0s 105us/sample - loss: 0.2123 - accuracy: 0.9231 - val_loss: 0.3365 - val_accuracy: 0.7826\n",
      "Epoch 132/300\n",
      "91/91 [==============================] - 0s 114us/sample - loss: 0.2102 - accuracy: 0.9231 - val_loss: 0.3382 - val_accuracy: 0.7826\n",
      "Epoch 133/300\n",
      "91/91 [==============================] - 0s 110us/sample - loss: 0.2083 - accuracy: 0.9231 - val_loss: 0.3350 - val_accuracy: 0.7826\n",
      "Epoch 134/300\n",
      "91/91 [==============================] - 0s 106us/sample - loss: 0.2061 - accuracy: 0.9231 - val_loss: 0.3349 - val_accuracy: 0.7826\n",
      "Epoch 135/300\n",
      "91/91 [==============================] - 0s 116us/sample - loss: 0.2041 - accuracy: 0.9231 - val_loss: 0.3355 - val_accuracy: 0.7826\n",
      "Epoch 136/300\n",
      "91/91 [==============================] - 0s 110us/sample - loss: 0.2024 - accuracy: 0.9231 - val_loss: 0.3393 - val_accuracy: 0.7826\n",
      "Epoch 137/300\n",
      "91/91 [==============================] - 0s 107us/sample - loss: 0.2001 - accuracy: 0.9231 - val_loss: 0.3373 - val_accuracy: 0.7826\n",
      "Epoch 138/300\n",
      "91/91 [==============================] - 0s 111us/sample - loss: 0.1988 - accuracy: 0.9231 - val_loss: 0.3355 - val_accuracy: 0.7826\n",
      "Epoch 139/300\n",
      "91/91 [==============================] - 0s 118us/sample - loss: 0.1959 - accuracy: 0.9231 - val_loss: 0.3357 - val_accuracy: 0.7826\n",
      "Epoch 140/300\n",
      "91/91 [==============================] - 0s 119us/sample - loss: 0.1942 - accuracy: 0.9231 - val_loss: 0.3374 - val_accuracy: 0.7826\n",
      "Epoch 141/300\n",
      "91/91 [==============================] - 0s 112us/sample - loss: 0.1921 - accuracy: 0.9231 - val_loss: 0.3387 - val_accuracy: 0.7826\n",
      "Epoch 142/300\n",
      "91/91 [==============================] - 0s 121us/sample - loss: 0.1905 - accuracy: 0.9231 - val_loss: 0.3398 - val_accuracy: 0.7826\n",
      "Epoch 143/300\n",
      "91/91 [==============================] - 0s 121us/sample - loss: 0.1883 - accuracy: 0.9231 - val_loss: 0.3399 - val_accuracy: 0.7826\n",
      "Epoch 144/300\n",
      "91/91 [==============================] - 0s 114us/sample - loss: 0.1866 - accuracy: 0.9231 - val_loss: 0.3407 - val_accuracy: 0.7826\n",
      "Epoch 145/300\n",
      "91/91 [==============================] - 0s 112us/sample - loss: 0.1846 - accuracy: 0.9231 - val_loss: 0.3426 - val_accuracy: 0.7826\n",
      "Epoch 146/300\n",
      "91/91 [==============================] - 0s 107us/sample - loss: 0.1828 - accuracy: 0.9231 - val_loss: 0.3447 - val_accuracy: 0.7826\n",
      "Epoch 147/300\n",
      "91/91 [==============================] - 0s 111us/sample - loss: 0.1811 - accuracy: 0.9341 - val_loss: 0.3459 - val_accuracy: 0.7826\n",
      "Epoch 00147: early stopping\n"
     ]
    },
    {
     "data": {
      "text/plain": [
       "<tensorflow.python.keras.callbacks.History at 0x1872120e6c8>"
      ]
     },
     "execution_count": 60,
     "metadata": {},
     "output_type": "execute_result"
    }
   ],
   "source": [
    "model.fit(x=x_train,y=y_train,epochs=300,validation_data=(x_test,y_test),verbose=1,callbacks=[early_stop,check_point])"
   ]
  },
  {
   "cell_type": "code",
   "execution_count": 61,
   "metadata": {},
   "outputs": [
    {
     "data": {
      "text/plain": [
       "<matplotlib.legend.Legend at 0x1871f4cfc88>"
      ]
     },
     "execution_count": 61,
     "metadata": {},
     "output_type": "execute_result"
    },
    {
     "data": {
      "image/png": "[encoded data removed]",
      "text/plain": [
       "<Figure size 432x288 with 1 Axes>"
      ]
     },
     "metadata": {
      "needs_background": "light"
     },
     "output_type": "display_data"
    }
   ],
   "source": [
    "nn_model_loss = pd.DataFrame(model.history.history)\n",
    "nn_model_loss['loss'].plot()\n",
    "nn_model_loss['val_loss'].plot()\n",
    "plt.legend()"
   ]
  },
  {
   "cell_type": "code",
   "execution_count": 62,
   "metadata": {},
   "outputs": [],
   "source": [
    "nn_predictions = model.predict_classes(x_test)"
   ]
  },
  {
   "cell_type": "markdown",
   "metadata": {},
   "source": [
    "**Model Evaluation**"
   ]
  },
  {
   "cell_type": "code",
   "execution_count": 63,
   "metadata": {
    "scrolled": true
   },
   "outputs": [
    {
     "name": "stdout",
     "output_type": "stream",
     "text": [
      "              precision    recall  f1-score   support\n",
      "\n",
      "         0.0       0.79      0.94      0.86        16\n",
      "         1.0       0.75      0.43      0.55         7\n",
      "\n",
      "    accuracy                           0.78        23\n",
      "   macro avg       0.77      0.68      0.70        23\n",
      "weighted avg       0.78      0.78      0.76        23\n",
      "\n"
     ]
    }
   ],
   "source": [
    "print(classification_report(y_test,nn_predictions))"
   ]
  },
  {
   "cell_type": "code",
   "execution_count": 64,
   "metadata": {},
   "outputs": [
    {
     "name": "stdout",
     "output_type": "stream",
     "text": [
      "[[15  1]\n",
      " [ 4  3]]\n"
     ]
    }
   ],
   "source": [
    "print(confusion_matrix(y_test,nn_predictions))"
   ]
  },
  {
   "cell_type": "markdown",
   "metadata": {},
   "source": [
    "# Predict Missing Ground Truth Values\n",
    "\n",
    "(data_for_predict set)"
   ]
  },
  {
   "cell_type": "code",
   "execution_count": 65,
   "metadata": {},
   "outputs": [],
   "source": [
    "data_for_predict = scaler.transform(data_for_predict)"
   ]
  },
  {
   "cell_type": "code",
   "execution_count": 66,
   "metadata": {},
   "outputs": [],
   "source": [
    "predict_missing = lr.predict(data_for_predict)"
   ]
  },
  {
   "cell_type": "code",
   "execution_count": 67,
   "metadata": {},
   "outputs": [],
   "source": [
    "submission_df = {'Patient_ID':id_prediction_set,'Drug_Rechallenge_predict':predict_missing}"
   ]
  },
  {
   "cell_type": "code",
   "execution_count": 68,
   "metadata": {},
   "outputs": [],
   "source": [
    "submission = pd.DataFrame(submission_df)"
   ]
  },
  {
   "cell_type": "code",
   "execution_count": 69,
   "metadata": {},
   "outputs": [],
   "source": [
    "#submission.to_csv('submission_drug_allergy.csv',index=False)"
   ]
  },
  {
   "cell_type": "markdown",
   "metadata": {},
   "source": [
    "# Summary"
   ]
  },
  {
   "cell_type": "markdown",
   "metadata": {},
   "source": [
    "In use case applications, clinicians discuss with patients whether to use the drug by weighing the benefits of drugs and the chance of adverse drug allergy occurs.\n",
    "\n",
    "The f1-score of 1 is a good factor to tell which model is better. \n",
    "\n",
    "The logistic regression model is better in this case at the f1 score of 0.92."
   ]
  }
 ],
 "metadata": {
  "kernelspec": {
   "display_name": "Python 3",
   "language": "python",
   "name": "python3"
  },
  "language_info": {
   "codemirror_mode": {
    "name": "ipython",
    "version": 3
   },
   "file_extension": ".py",
   "mimetype": "text/x-python",
   "name": "python",
   "nbconvert_exporter": "python",
   "pygments_lexer": "ipython3",
   "version": "3.7.7"
  }
 },
 "nbformat": 4,
 "nbformat_minor": 4
}
